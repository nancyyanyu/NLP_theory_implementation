{
 "cells": [
  {
   "cell_type": "code",
   "execution_count": 89,
   "metadata": {},
   "outputs": [],
   "source": [
    "import os\n",
    "import sys\n",
    "import re\n",
    "import tarfile\n",
    "import numpy as np\n",
    "import matplotlib.pyplot as plt\n",
    "from tensorflow.keras.models import Model\n",
    "from tensorflow.keras.layers import Input, Embedding, Dense, Lambda, Reshape, add, dot, Activation\n",
    "from tensorflow.keras.preprocessing.sequence import pad_sequences\n",
    "from tensorflow.keras.optimizers import Adam,RMSprop\n",
    "from tensorflow.keras.utils import get_file\n",
    "import tensorflow.keras.backend as K"
   ]
  },
  {
   "cell_type": "markdown",
   "metadata": {},
   "source": [
    "# Read and process data "
   ]
  },
  {
   "cell_type": "code",
   "execution_count": 112,
   "metadata": {},
   "outputs": [],
   "source": [
    "# get the data and open the compressed file using the tarfile library\n",
    "# https://research.fb.com/downloads/babi/\n",
    "path = get_file(\n",
    "    'babi-tasks-v1-2.tar.gz',\n",
    "    origin='https://s3.amazonaws.com/text-datasets/babi_tasks_1-20_v1-2.tar.gz')\n",
    "tar = tarfile.open(path)\n",
    "\n",
    "\n",
    "# relevant data in the tar file\n",
    "# there's lots more data in there, check it out if you want!\n",
    "challenges = {\n",
    "    # QA1 with 10,000 samples\n",
    "    'single_supporting_fact_10k': 'tasks_1-20_v1-2/en-10k/qa1_single-supporting-fact_{}.txt',\n",
    "    # QA2 with 10,000 samples\n",
    "    'two_supporting_facts_10k': 'tasks_1-20_v1-2/en-10k/qa2_two-supporting-facts_{}.txt',\n",
    "}"
   ]
  },
  {
   "cell_type": "code",
   "execution_count": 113,
   "metadata": {},
   "outputs": [],
   "source": [
    "def tokenize(sent):\n",
    "    '''Return the tokens of a sentence including punctuation.\n",
    "\n",
    "    >>> tokenize('Bob dropped the apple. Where is the apple?')\n",
    "    ['Bob', 'dropped', 'the', 'apple', '.', 'Where', 'is', 'the', 'apple', '?']\n",
    "    '''\n",
    "    return [x.strip() for x in re.split('(\\W+?)', sent) if x.strip()]\n",
    "\n",
    "\n",
    "def flatten(l):\n",
    "    for el in l:\n",
    "        if not isinstance(el, (str, bytes)):\n",
    "            yield from flatten(el)\n",
    "        else:\n",
    "            yield el\n",
    "\n",
    "\n",
    "def vectorize_stories(data, word2idx, story_maxlen, query_maxlen):\n",
    "    inputs, queries, answers = [], [], []\n",
    "    for story, query, answer in data:\n",
    "        inputs.append([[word2idx[w] for w in s] for s in story])\n",
    "        queries.append([word2idx[w] for w in query])\n",
    "        answers.append([word2idx[answer]])\n",
    "    return (\n",
    "        [pad_sequences(x, maxlen=story_maxlen) for x in inputs],\n",
    "        pad_sequences(queries, maxlen=query_maxlen),\n",
    "        np.array(answers)\n",
    "    )\n",
    "\n",
    "\n",
    "def stack_inputs(inputs, story_maxsents, story_maxlen):\n",
    "    for i, story in enumerate(inputs):\n",
    "        inputs[i] = np.concatenate(\n",
    "            [\n",
    "                story,\n",
    "                np.zeros((story_maxsents-story.shape[0], story_maxlen), 'int')\n",
    "            ]\n",
    "        )\n",
    "    return np.stack(inputs)"
   ]
  },
  {
   "cell_type": "code",
   "execution_count": 114,
   "metadata": {},
   "outputs": [],
   "source": [
    "def get_stories(f):\n",
    "    # data will return a list of triples\n",
    "    # each triple contains:\n",
    "    #   1. a story\n",
    "    #   2. a question about the story\n",
    "    #   3. the answer to the question\n",
    "    data = []\n",
    "\n",
    "    # use this list to keep track of the story so far\n",
    "    stories = []\n",
    "    printed = False\n",
    "    for line in f:\n",
    "        line = line.decode('utf-8').strip()\n",
    "\n",
    "        # split the line number from the rest of the line\n",
    "        nid, line = line.split(' ', 1)\n",
    "\n",
    "        # see if we should begin a new story\n",
    "        if int(nid) == 1:\n",
    "            story = []\n",
    "\n",
    "        # this line contains a question and answer if it has a tab\n",
    "        #       question<TAB>answer\n",
    "        # it also tells us which line in the story is relevant to the answer\n",
    "        # Note: we actually ignore this fact, since the model will learn\n",
    "        #       which lines are important\n",
    "        # Note: the max line number is not the number of lines of the story\n",
    "        #       since lines with questions do not contain any story\n",
    "        # one story may contain MULTIPLE questions\n",
    "        if '\\t' in line:\n",
    "            q, a, supporting = line.split('\\t')\n",
    "            q = tokenize(q)\n",
    "\n",
    "            # numbering each line is very useful\n",
    "            # it's the equivalent of adding a unique token to the front\n",
    "            # of each sentence\n",
    "            story_so_far = [[str(i)] + s for i, s in enumerate(story) if s]\n",
    "            data.append((story_so_far, q, a))\n",
    "            story.append('')\n",
    "        else:\n",
    "            story.append(tokenize(line))\n",
    "    return data"
   ]
  },
  {
   "cell_type": "code",
   "execution_count": 116,
   "metadata": {},
   "outputs": [],
   "source": [
    "def get_data(challenge_type):\n",
    "    challenge = challenges[challenge_type]\n",
    "    # returns a list of triples of:\n",
    "    # (story, question, answer)\n",
    "    # story is a list of sentences\n",
    "    # question is a sentence\n",
    "    # answer is a word\n",
    "    train_stories = get_stories(tar.extractfile(challenge.format('train')))\n",
    "    test_stories = get_stories(tar.extractfile(challenge.format('test')))\n",
    "    # group all the stories together\n",
    "    stories = train_stories+test_stories\n",
    "\n",
    "    # so we can get the max length of each story, of each sentence, and of each question\n",
    "    story_maxlen = max(len(s) for lines, _, _ in stories for s in lines)\n",
    "    story_maxsents = max(len(lines) for lines, _, _ in stories)\n",
    "    query_maxlen = max(len(q) for _, q, _ in stories)\n",
    "\n",
    "    # Create vocabulary of corpus and find size, including a padding element.\n",
    "    vocab = sorted(set(flatten(stories)))\n",
    "    vocab.insert(0, '<PAD>')\n",
    "    vocab_size = len(vocab)\n",
    "\n",
    "    # Create an index mapping for the vocabulary.\n",
    "    word2idx = {word: i for i, word in enumerate(vocab)}\n",
    "\n",
    "    # convert stories from strings to lists of integers\n",
    "    inputs_train, queries_train, answers_train = vectorize_stories(\n",
    "        train_stories,\n",
    "        word2idx,\n",
    "        story_maxlen,\n",
    "        query_maxlen\n",
    "    )\n",
    "\n",
    "    inputs_test, queries_test, answers_test = vectorize_stories(\n",
    "        test_stories,\n",
    "        word2idx,\n",
    "        story_maxlen,\n",
    "        query_maxlen\n",
    "    )\n",
    "\n",
    "    # convert inputs into 3-D numpy arrays\n",
    "    inputs_train = stack_inputs(inputs_train, story_maxsents, story_maxlen)\n",
    "    inputs_test = stack_inputs(inputs_test, story_maxsents, story_maxlen)\n",
    "    print(\"inputs_train.shape, inputs_test.shape\",\n",
    "          inputs_train.shape, inputs_test.shape)\n",
    "\n",
    "    # return model inputs for keras\n",
    "    return train_stories, \\\n",
    "        test_stories, \\\n",
    "        inputs_train, \\\n",
    "        queries_train, \\\n",
    "        answers_train, \\\n",
    "        inputs_test, \\\n",
    "        queries_test, \\\n",
    "        answers_test, \\\n",
    "        story_maxsents, \\\n",
    "        story_maxlen, \\\n",
    "        query_maxlen, \\\n",
    "        vocab, \\\n",
    "        vocab_size"
   ]
  },
  {
   "cell_type": "code",
   "execution_count": 117,
   "metadata": {},
   "outputs": [
    {
     "name": "stdout",
     "output_type": "stream",
     "text": [
      "inputs_train.shape, inputs_test.shape (10000, 10, 8) (1000, 10, 8)\n"
     ]
    }
   ],
   "source": [
    "# get the single supporting fact data\n",
    "train_stories, test_stories, \\\n",
    "    inputs_train, queries_train, answers_train, \\\n",
    "    inputs_test, queries_test, answers_test, \\\n",
    "    story_maxsents, story_maxlen, query_maxlen, \\\n",
    "    vocab, vocab_size = get_data('single_supporting_fact_10k')"
   ]
  },
  {
   "cell_type": "markdown",
   "metadata": {},
   "source": [
    "# Create the model "
   ]
  },
  {
   "cell_type": "code",
   "execution_count": 118,
   "metadata": {},
   "outputs": [],
   "source": [
    "embedding_dim = 15\n",
    "\n",
    "# turn the story into a sequence of embedding vectors\n",
    "# one for each story line\n",
    "# treating each story line like a \"bag of words\"\n",
    "input_story_ = Input(shape=(story_maxsents, story_maxlen))\n",
    "embedded_story = Embedding(vocab_size, embedding_dim)(input_story_)\n",
    "embedded_story = Lambda(lambda x: K.sum(x, axis=2))(embedded_story)\n",
    "print(\"input_story_.shape, embedded_story.shape:\",\n",
    "      input_story_.shape, embedded_story.shape)"
   ]
  },
  {
   "cell_type": "code",
   "execution_count": 121,
   "metadata": {},
   "outputs": [
    {
     "name": "stdout",
     "output_type": "stream",
     "text": [
      "input_question_.shape, embedding_question.shape: (None, 4) (None, 15)\n"
     ]
    }
   ],
   "source": [
    "# turn the question into an embedding\n",
    "# also a bag of words\n",
    "input_question_ = Input(shape=(query_maxlen,))\n",
    "embedded_question = Embedding(vocab_size, embedding_dim)(input_question_)\n",
    "embedded_question = Lambda(lambda x: K.sum(x, axis=1))(embedded_question)\n",
    "print(\"input_question_.shape, embedding_question.shape:\",\n",
    "      input_question_.shape, embedded_question.shape)\n",
    "\n",
    "# add a \"sequence length\" of 1 so that it can\n",
    "# be dotted with the story later\n",
    "embedded_question = Reshape((1, embedding_dim))(embedded_question)\n",
    "print(\"inp_q.shape, emb_q.shape:\", input_question_.shape, embedded_question.shape)"
   ]
  },
  {
   "cell_type": "code",
   "execution_count": 123,
   "metadata": {},
   "outputs": [
    {
     "name": "stdout",
     "output_type": "stream",
     "text": [
      "(None, 10, 1)\n",
      "(None, 10)\n",
      "(None, 10)\n",
      "(None, 10, 1)\n"
     ]
    }
   ],
   "source": [
    "# calculate the weights for each story line\n",
    "# embedded_story.shape        = (N, num sentences, embedding_dim)\n",
    "# embedded_question.shape     = (N, 1, embedding_dim)\n",
    "x = dot([embedded_story, embedded_question], 2)\n",
    "print(x.shape)\n",
    "x = Reshape((story_maxsents,))(x)  # flatten the vector\n",
    "print(x.shape)\n",
    "x = Activation('softmax')(x)\n",
    "print(x.shape)\n",
    "story_weights = Reshape((story_maxsents, 1))(\n",
    "    x)  # unflatten it again to be dotted later\n",
    "print(story_weights.shape)"
   ]
  },
  {
   "cell_type": "code",
   "execution_count": 124,
   "metadata": {},
   "outputs": [],
   "source": [
    "x = dot([story_weights, embedded_story], 1)\n",
    "x = Reshape((embedding_dim,))(x)\n",
    "ans = Dense(vocab_size, activation='softmax')(x)"
   ]
  },
  {
   "cell_type": "code",
   "execution_count": 125,
   "metadata": {},
   "outputs": [],
   "source": [
    "# make the model\n",
    "model = Model([input_story_, input_question_], ans)\n",
    "\n",
    "# compile the model\n",
    "model.compile(loss='sparse_categorical_crossentropy',\n",
    "              metrics=['accuracy'],\n",
    "              optimizer=Adam(lr=0.01))"
   ]
  },
  {
   "cell_type": "code",
   "execution_count": 126,
   "metadata": {},
   "outputs": [
    {
     "name": "stdout",
     "output_type": "stream",
     "text": [
      "Epoch 1/30\n",
      "313/313 [==============================] - 0s 803us/step - loss: 0.8748 - accuracy: 0.6948 - val_loss: 0.0923 - val_accuracy: 0.9720\n",
      "Epoch 2/30\n",
      "313/313 [==============================] - 0s 540us/step - loss: 0.0149 - accuracy: 0.9971 - val_loss: 0.0030 - val_accuracy: 1.0000\n",
      "Epoch 3/30\n",
      "313/313 [==============================] - 0s 528us/step - loss: 0.0019 - accuracy: 1.0000 - val_loss: 0.0014 - val_accuracy: 1.0000\n",
      "Epoch 4/30\n",
      "313/313 [==============================] - 0s 549us/step - loss: 9.6560e-04 - accuracy: 1.0000 - val_loss: 7.6861e-04 - val_accuracy: 1.0000\n",
      "Epoch 5/30\n",
      "313/313 [==============================] - 1s 3ms/step - loss: 5.8159e-04 - accuracy: 1.0000 - val_loss: 4.9016e-04 - val_accuracy: 1.0000\n",
      "Epoch 6/30\n",
      "313/313 [==============================] - 1s 2ms/step - loss: 3.8396e-04 - accuracy: 1.0000 - val_loss: 3.3723e-04 - val_accuracy: 1.0000\n",
      "Epoch 7/30\n",
      "313/313 [==============================] - 1s 3ms/step - loss: 2.6897e-04 - accuracy: 1.0000 - val_loss: 2.4026e-04 - val_accuracy: 1.0000\n",
      "Epoch 8/30\n",
      "313/313 [==============================] - 1s 2ms/step - loss: 1.9619e-04 - accuracy: 1.0000 - val_loss: 1.7888e-04 - val_accuracy: 1.0000\n",
      "Epoch 9/30\n",
      "313/313 [==============================] - 1s 2ms/step - loss: 1.4716e-04 - accuracy: 1.0000 - val_loss: 1.3642e-04 - val_accuracy: 1.0000\n",
      "Epoch 10/30\n",
      "313/313 [==============================] - 1s 2ms/step - loss: 1.1287e-04 - accuracy: 1.0000 - val_loss: 1.0571e-04 - val_accuracy: 1.0000\n",
      "Epoch 11/30\n",
      "313/313 [==============================] - 1s 2ms/step - loss: 8.8022e-05 - accuracy: 1.0000 - val_loss: 8.2943e-05 - val_accuracy: 1.0000\n",
      "Epoch 12/30\n",
      "313/313 [==============================] - 1s 2ms/step - loss: 6.9574e-05 - accuracy: 1.0000 - val_loss: 6.5712e-05 - val_accuracy: 1.0000\n",
      "Epoch 13/30\n",
      "313/313 [==============================] - 1s 2ms/step - loss: 5.5578e-05 - accuracy: 1.0000 - val_loss: 5.2937e-05 - val_accuracy: 1.0000\n",
      "Epoch 14/30\n",
      "313/313 [==============================] - 1s 2ms/step - loss: 4.4777e-05 - accuracy: 1.0000 - val_loss: 4.2786e-05 - val_accuracy: 1.0000\n",
      "Epoch 15/30\n",
      "313/313 [==============================] - 1s 2ms/step - loss: 3.6330e-05 - accuracy: 1.0000 - val_loss: 3.4780e-05 - val_accuracy: 1.0000\n",
      "Epoch 16/30\n",
      "313/313 [==============================] - 1s 2ms/step - loss: 2.9657e-05 - accuracy: 1.0000 - val_loss: 2.8453e-05 - val_accuracy: 1.0000\n",
      "Epoch 17/30\n",
      "313/313 [==============================] - 1s 2ms/step - loss: 2.4317e-05 - accuracy: 1.0000 - val_loss: 2.3432e-05 - val_accuracy: 1.0000\n",
      "Epoch 18/30\n",
      "313/313 [==============================] - 1s 3ms/step - loss: 2.0028e-05 - accuracy: 1.0000 - val_loss: 1.9326e-05 - val_accuracy: 1.0000\n",
      "Epoch 19/30\n",
      "313/313 [==============================] - 1s 3ms/step - loss: 1.6543e-05 - accuracy: 1.0000 - val_loss: 1.6013e-05 - val_accuracy: 1.0000\n",
      "Epoch 20/30\n",
      "313/313 [==============================] - 1s 2ms/step - loss: 1.3707e-05 - accuracy: 1.0000 - val_loss: 1.3295e-05 - val_accuracy: 1.0000\n",
      "Epoch 21/30\n",
      "313/313 [==============================] - 1s 2ms/step - loss: 1.1387e-05 - accuracy: 1.0000 - val_loss: 1.1052e-05 - val_accuracy: 1.0000\n",
      "Epoch 22/30\n",
      "313/313 [==============================] - 1s 2ms/step - loss: 9.4771e-06 - accuracy: 1.0000 - val_loss: 9.2051e-06 - val_accuracy: 1.0000\n",
      "Epoch 23/30\n",
      "313/313 [==============================] - 1s 3ms/step - loss: 7.8986e-06 - accuracy: 1.0000 - val_loss: 7.6826e-06 - val_accuracy: 1.0000\n",
      "Epoch 24/30\n",
      "313/313 [==============================] - 1s 2ms/step - loss: 6.5925e-06 - accuracy: 1.0000 - val_loss: 6.4066e-06 - val_accuracy: 1.0000\n",
      "Epoch 25/30\n",
      "313/313 [==============================] - 1s 2ms/step - loss: 5.5099e-06 - accuracy: 1.0000 - val_loss: 5.3535e-06 - val_accuracy: 1.0000\n",
      "Epoch 26/30\n",
      "313/313 [==============================] - 1s 2ms/step - loss: 4.6150e-06 - accuracy: 1.0000 - val_loss: 4.5024e-06 - val_accuracy: 1.0000\n",
      "Epoch 27/30\n",
      "313/313 [==============================] - 0s 1ms/step - loss: 3.8693e-06 - accuracy: 1.0000 - val_loss: 3.7769e-06 - val_accuracy: 1.0000\n",
      "Epoch 28/30\n",
      "313/313 [==============================] - 1s 2ms/step - loss: 3.2462e-06 - accuracy: 1.0000 - val_loss: 3.1636e-06 - val_accuracy: 1.0000\n",
      "Epoch 29/30\n",
      "313/313 [==============================] - 0s 1ms/step - loss: 2.7257e-06 - accuracy: 1.0000 - val_loss: 2.6590e-06 - val_accuracy: 1.0000\n",
      "Epoch 30/30\n",
      "313/313 [==============================] - 1s 3ms/step - loss: 2.2890e-06 - accuracy: 1.0000 - val_loss: 2.2290e-06 - val_accuracy: 1.0000\n"
     ]
    }
   ],
   "source": [
    "# train the model\n",
    "r = model.fit([inputs_train, queries_train],\n",
    "              answers_train,\n",
    "              batch_size=32,\n",
    "              epochs=30,\n",
    "              validation_data=([inputs_test, queries_test], answers_test))"
   ]
  },
  {
   "cell_type": "code",
   "execution_count": 128,
   "metadata": {},
   "outputs": [
    {
     "name": "stdout",
     "output_type": "stream",
     "text": [
      "WARNING:tensorflow:6 out of the last 11 calls to <function Model.make_predict_function.<locals>.predict_function at 0x7f7e2468f598> triggered tf.function retracing. Tracing is expensive and the excessive number of tracings could be due to (1) creating @tf.function repeatedly in a loop, (2) passing tensors with different shapes, (3) passing Python objects instead of tensors. For (1), please define your @tf.function outside of the loop. For (2), @tf.function has experimental_relax_shapes=True option that relaxes argument shapes that can avoid unnecessary retracing. For (3), please refer to https://www.tensorflow.org/tutorials/customization/performance#python_or_tensor_args and https://www.tensorflow.org/api_docs/python/tf/function for  more details.\n",
      "story:\n",
      "\n",
      "0.00000 \t 0 Daniel travelled to the hallway .\n",
      "0.05700 \t 1 Sandra went to the bedroom .\n",
      "0.93740 \t 3 Sandra went back to the bathroom .\n",
      "0.00003 \t 4 Mary moved to the hallway .\n",
      "0.00036 \t 6 Mary travelled to the bedroom .\n",
      "0.00521 \t 7 Mary went to the kitchen .\n",
      "question: Where is Sandra ?\n",
      "answer: bathroom\n"
     ]
    }
   ],
   "source": [
    "# Check how we weight each input sentence given a story and question\n",
    "debug_model = Model([input_story_, input_question_], story_weights)\n",
    "\n",
    "# choose a random story\n",
    "story_idx = np.random.choice(len(train_stories))\n",
    "\n",
    "# get weights from debug model\n",
    "i = inputs_train[story_idx:story_idx+1]\n",
    "q = queries_train[story_idx:story_idx+1]\n",
    "w = debug_model.predict([i, q]).flatten()\n",
    "\n",
    "story, question, ans = train_stories[story_idx]\n",
    "\n",
    "print(\"story:\\n\")\n",
    "for i, line in enumerate(story):\n",
    "    print(\"{:1.5f}\".format(w[i]), \"\\t\", \" \".join(line))\n",
    "\n",
    "print(\"question:\", \" \".join(question))\n",
    "print(\"answer:\", ans)"
   ]
  },
  {
   "cell_type": "markdown",
   "metadata": {},
   "source": [
    "#  2 supporting facts"
   ]
  },
  {
   "cell_type": "code",
   "execution_count": 90,
   "metadata": {},
   "outputs": [
    {
     "name": "stdout",
     "output_type": "stream",
     "text": [
      "inputs_train.shape, inputs_test.shape (10000, 88, 8) (1000, 88, 8)\n"
     ]
    }
   ],
   "source": [
    "train_stories, test_stories, \\\n",
    "    inputs_train, queries_train, answers_train, \\\n",
    "    inputs_test, queries_test, answers_test, \\\n",
    "    story_maxsents, story_maxlen, query_maxlen, \\\n",
    "    vocab, vocab_size = get_data('two_supporting_facts_10k')"
   ]
  },
  {
   "cell_type": "markdown",
   "metadata": {},
   "source": [
    "## create the model\n"
   ]
  },
  {
   "cell_type": "code",
   "execution_count": 91,
   "metadata": {},
   "outputs": [],
   "source": [
    "embedding_dim = 30\n",
    "\n",
    "# define the inputs\n",
    "input_story_ = Input(shape=(story_maxsents, story_maxlen))\n",
    "input_question_ = Input(shape=(query_maxlen,))"
   ]
  },
  {
   "cell_type": "code",
   "execution_count": 92,
   "metadata": {},
   "outputs": [
    {
     "name": "stdout",
     "output_type": "stream",
     "text": [
      "(None, 88, 30) (None, 30)\n"
     ]
    }
   ],
   "source": [
    "# embed the inputs\n",
    "embedded_story = Embedding(vocab_size, embedding_dim)(input_story_)\n",
    "embedded_story = Lambda(lambda x: K.sum(x, axis=2))(embedded_story)\n",
    "embedded_question = Embedding(vocab_size, embedding_dim)(input_question_)\n",
    "embedded_question = Lambda(lambda x: K.sum(x, axis=1))(embedded_question)\n",
    "\n",
    "print(embedded_story.shape, embedded_question.shape)"
   ]
  },
  {
   "cell_type": "code",
   "execution_count": 93,
   "metadata": {},
   "outputs": [],
   "source": [
    "# final dense will be used in each hop\n",
    "dense_layer = Dense(embedding_dim, activation='elu')"
   ]
  },
  {
   "cell_type": "code",
   "execution_count": 94,
   "metadata": {},
   "outputs": [],
   "source": [
    "# define one hop\n",
    "# the \"query\" can be the question, or the answer from the previous hop\n",
    "def hop(query, story):\n",
    "    # query.shape = (embedding_dim,)\n",
    "    # story.shape = (num sentences, embedding_dim)\n",
    "    x = Reshape((1, embedding_dim))(query)  # make it (1, embedding_dim)\n",
    "    x = dot([story, x], 2)\n",
    "    x = Reshape((story_maxsents,))(x)  # flatten it for softmax\n",
    "    x = Activation('softmax')(x)\n",
    "    story_weights = Reshape((story_maxsents, 1))(x)  # unflatten for dotting\n",
    "\n",
    "    # makes a new embedding\n",
    "    embedded_story2 = Embedding(vocab_size, embedding_dim)(input_story_)\n",
    "    embedded_story2 = Lambda(lambda x: K.sum(x, axis=2))(embedded_story2)\n",
    "\n",
    "    x = dot([story_weights, embedded_story2], 1)\n",
    "    x = Reshape((embedding_dim,))(x)\n",
    "    x = dense_layer(x)\n",
    "    return x, embedded_story2, story_weights"
   ]
  },
  {
   "cell_type": "code",
   "execution_count": 95,
   "metadata": {},
   "outputs": [],
   "source": [
    "# do the hops\n",
    "ans1, embedded_story1, story_weights1 = hop(embedded_question, embedded_story)\n",
    "ans2, _, story_weights2 = hop(ans1, embedded_story1)"
   ]
  },
  {
   "cell_type": "code",
   "execution_count": 96,
   "metadata": {},
   "outputs": [],
   "source": [
    "ans = Dense(vocab_size,activation='softmax')(ans2)"
   ]
  },
  {
   "cell_type": "code",
   "execution_count": 97,
   "metadata": {},
   "outputs": [],
   "source": [
    "model2 = Model([input_story_,input_question_],ans)"
   ]
  },
  {
   "cell_type": "code",
   "execution_count": 98,
   "metadata": {},
   "outputs": [],
   "source": [
    "model2.compile(metrics=['accuracy'],\n",
    "               optimizer=RMSprop(lr=5e-3),\n",
    "               loss='sparse_categorical_crossentropy')"
   ]
  },
  {
   "cell_type": "code",
   "execution_count": 99,
   "metadata": {},
   "outputs": [
    {
     "name": "stdout",
     "output_type": "stream",
     "text": [
      "Epoch 1/30\n",
      "313/313 [==============================] - 1s 3ms/step - loss: 1.7431 - accuracy: 0.2642 - val_loss: 1.5580 - val_accuracy: 0.3600\n",
      "Epoch 2/30\n",
      "313/313 [==============================] - 1s 3ms/step - loss: 1.0871 - accuracy: 0.5784 - val_loss: 0.8585 - val_accuracy: 0.6840\n",
      "Epoch 3/30\n",
      "313/313 [==============================] - 1s 3ms/step - loss: 0.7111 - accuracy: 0.7336 - val_loss: 0.6787 - val_accuracy: 0.7300\n",
      "Epoch 4/30\n",
      "313/313 [==============================] - 1s 3ms/step - loss: 0.5522 - accuracy: 0.7951 - val_loss: 0.5566 - val_accuracy: 0.7860\n",
      "Epoch 5/30\n",
      "313/313 [==============================] - 1s 3ms/step - loss: 0.4695 - accuracy: 0.8302 - val_loss: 0.4595 - val_accuracy: 0.8260\n",
      "Epoch 6/30\n",
      "313/313 [==============================] - 1s 3ms/step - loss: 0.4033 - accuracy: 0.8576 - val_loss: 0.4356 - val_accuracy: 0.8410\n",
      "Epoch 7/30\n",
      "313/313 [==============================] - 1s 3ms/step - loss: 0.3546 - accuracy: 0.8761 - val_loss: 0.4505 - val_accuracy: 0.8320\n",
      "Epoch 8/30\n",
      "313/313 [==============================] - 1s 3ms/step - loss: 0.3211 - accuracy: 0.8891 - val_loss: 0.4122 - val_accuracy: 0.8500\n",
      "Epoch 9/30\n",
      "313/313 [==============================] - 1s 3ms/step - loss: 0.2924 - accuracy: 0.9028 - val_loss: 0.4022 - val_accuracy: 0.8580\n",
      "Epoch 10/30\n",
      "313/313 [==============================] - 1s 3ms/step - loss: 0.2652 - accuracy: 0.9133 - val_loss: 0.4257 - val_accuracy: 0.8540\n",
      "Epoch 11/30\n",
      "313/313 [==============================] - 1s 3ms/step - loss: 0.2480 - accuracy: 0.9224 - val_loss: 0.3936 - val_accuracy: 0.8740\n",
      "Epoch 12/30\n",
      "313/313 [==============================] - 1s 3ms/step - loss: 0.2463 - accuracy: 0.9239 - val_loss: 0.3854 - val_accuracy: 0.8740\n",
      "Epoch 13/30\n",
      "313/313 [==============================] - 1s 3ms/step - loss: 0.2242 - accuracy: 0.9312 - val_loss: 0.4660 - val_accuracy: 0.8680\n",
      "Epoch 14/30\n",
      "313/313 [==============================] - 1s 3ms/step - loss: 0.2107 - accuracy: 0.9359 - val_loss: 0.3683 - val_accuracy: 0.8900\n",
      "Epoch 15/30\n",
      "313/313 [==============================] - 1s 3ms/step - loss: 0.2050 - accuracy: 0.9381 - val_loss: 0.4173 - val_accuracy: 0.8740\n",
      "Epoch 16/30\n",
      "313/313 [==============================] - 1s 3ms/step - loss: 0.1932 - accuracy: 0.9416 - val_loss: 0.3980 - val_accuracy: 0.8920\n",
      "Epoch 17/30\n",
      "313/313 [==============================] - 1s 3ms/step - loss: 0.1861 - accuracy: 0.9450 - val_loss: 0.4437 - val_accuracy: 0.8720\n",
      "Epoch 18/30\n",
      "313/313 [==============================] - 1s 3ms/step - loss: 0.1997 - accuracy: 0.9453 - val_loss: 0.3298 - val_accuracy: 0.9040\n",
      "Epoch 19/30\n",
      "313/313 [==============================] - 1s 3ms/step - loss: 0.1782 - accuracy: 0.9516 - val_loss: 0.3473 - val_accuracy: 0.8940\n",
      "Epoch 20/30\n",
      "313/313 [==============================] - 1s 3ms/step - loss: 0.1838 - accuracy: 0.9485 - val_loss: 0.3064 - val_accuracy: 0.9090\n",
      "Epoch 21/30\n",
      "313/313 [==============================] - 1s 3ms/step - loss: 0.1764 - accuracy: 0.9527 - val_loss: 0.4771 - val_accuracy: 0.8740\n",
      "Epoch 22/30\n",
      "313/313 [==============================] - 1s 3ms/step - loss: 0.1773 - accuracy: 0.9515 - val_loss: 0.3755 - val_accuracy: 0.9050\n",
      "Epoch 23/30\n",
      "313/313 [==============================] - 1s 3ms/step - loss: 0.1633 - accuracy: 0.9564 - val_loss: 0.4191 - val_accuracy: 0.8860\n",
      "Epoch 24/30\n",
      "313/313 [==============================] - 1s 3ms/step - loss: 0.1581 - accuracy: 0.9604 - val_loss: 0.3505 - val_accuracy: 0.9040\n",
      "Epoch 25/30\n",
      "313/313 [==============================] - 1s 3ms/step - loss: 0.1612 - accuracy: 0.9574 - val_loss: 0.3992 - val_accuracy: 0.8930\n",
      "Epoch 26/30\n",
      "313/313 [==============================] - 1s 3ms/step - loss: 0.1542 - accuracy: 0.9605 - val_loss: 0.3349 - val_accuracy: 0.9070\n",
      "Epoch 27/30\n",
      "313/313 [==============================] - 1s 3ms/step - loss: 0.1567 - accuracy: 0.9578 - val_loss: 0.4108 - val_accuracy: 0.8970\n",
      "Epoch 28/30\n",
      "313/313 [==============================] - 1s 3ms/step - loss: 0.1527 - accuracy: 0.9596 - val_loss: 0.4288 - val_accuracy: 0.8920\n",
      "Epoch 29/30\n",
      "313/313 [==============================] - 1s 3ms/step - loss: 0.1469 - accuracy: 0.9609 - val_loss: 0.4374 - val_accuracy: 0.9020\n",
      "Epoch 30/30\n",
      "313/313 [==============================] - 1s 3ms/step - loss: 0.1677 - accuracy: 0.9582 - val_loss: 0.4204 - val_accuracy: 0.8870\n"
     ]
    }
   ],
   "source": [
    "r2 =model2.fit([inputs_train,queries_train],\n",
    "               answers_train,\n",
    "               batch_size=32,\n",
    "               epochs=30,\n",
    "               validation_data=([inputs_test,queries_test],answers_test))"
   ]
  },
  {
   "cell_type": "code",
   "execution_count": 103,
   "metadata": {},
   "outputs": [
    {
     "data": {
      "image/png": "[encoded data removed]",
      "text/plain": [
       "<Figure size 432x288 with 1 Axes>"
      ]
     },
     "metadata": {},
     "output_type": "display_data"
    },
    {
     "data": {
      "image/png": "[encoded data removed]",
      "text/plain": [
       "<Figure size 432x288 with 1 Axes>"
      ]
     },
     "metadata": {},
     "output_type": "display_data"
    }
   ],
   "source": [
    "# plot some data\n",
    "plt.plot(r2.history['loss'], label='loss')\n",
    "plt.plot(r2.history['val_loss'], label='val_loss')\n",
    "plt.legend()\n",
    "plt.show()\n",
    "\n",
    "# accuracies\n",
    "plt.plot(r2.history['accuracy'], label='acc')\n",
    "plt.plot(r2.history['val_accuracy'], label='val_acc')\n",
    "plt.legend()\n",
    "plt.show()\n"
   ]
  },
  {
   "cell_type": "code",
   "execution_count": 105,
   "metadata": {},
   "outputs": [],
   "source": [
    "### print story line weights again ###\n",
    "debug_model2 = Model([input_story_,input_question_],[story_weights1,story_weights2])"
   ]
  },
  {
   "cell_type": "code",
   "execution_count": 110,
   "metadata": {},
   "outputs": [],
   "source": [
    "# choose a random story\n",
    "story_idx = np.random.choice(len(test_stories))\n",
    "\n",
    "i=inputs_test[story_idx:story_idx+1]\n",
    "q=queries_test[story_idx:story_idx+1]\n",
    "w1,w2=debug_model2.predict([i,q])\n",
    "w1 = w1.flatten()\n",
    "w2 = w2.flatten()"
   ]
  },
  {
   "cell_type": "code",
   "execution_count": 111,
   "metadata": {},
   "outputs": [
    {
     "name": "stdout",
     "output_type": "stream",
     "text": [
      "story:\n",
      "\n",
      "question: Where is the football ?\n",
      "answer: hallway\n",
      "prediction: hallway\n"
     ]
    }
   ],
   "source": [
    "story, question, ans = test_stories[story_idx]\n",
    "print(\"story:\\n\")\n",
    "# for j, line in enumerate(story):\n",
    "#     print(\"{:1.5f}\".format(w1[j]), \"\\t\", \"{:1.5f}\".format(w2[j]), \"\\t\", \" \".join(line))\n",
    "\n",
    "print(\"question:\", \" \".join(question))\n",
    "print(\"answer:\", ans)\n",
    "print(\"prediction:\", vocab[ np.argmax(model2.predict([i, q])[0]) ])"
   ]
  },
  {
   "cell_type": "code",
   "execution_count": null,
   "metadata": {},
   "outputs": [],
   "source": []
  },
  {
   "cell_type": "code",
   "execution_count": null,
   "metadata": {},
   "outputs": [],
   "source": []
  }
 ],
 "metadata": {
  "kernelspec": {
   "display_name": "Python 3",
   "language": "python",
   "name": "python3"
  },
  "language_info": {
   "codemirror_mode": {
    "name": "ipython",
    "version": 3
   },
   "file_extension": ".py",
   "mimetype": "text/x-python",
   "name": "python",
   "nbconvert_exporter": "python",
   "pygments_lexer": "ipython3",
   "version": "3.6.9"
  },
  "toc": {
   "base_numbering": 1,
   "nav_menu": {},
   "number_sections": true,
   "sideBar": true,
   "skip_h1_title": false,
   "title_cell": "Table of Contents",
   "title_sidebar": "Contents",
   "toc_cell": false,
   "toc_position": {},
   "toc_section_display": true,
   "toc_window_display": false
  }
 },
 "nbformat": 4,
 "nbformat_minor": 2
}
