{
 "cells": [
  {
   "cell_type": "markdown",
   "metadata": {},
   "source": [
    "# Test "
   ]
  },
  {
   "cell_type": "code",
   "execution_count": 5,
   "metadata": {},
   "outputs": [],
   "source": [
    "import numpy as np\n",
    "from tensorflow.keras.models import Model\n",
    "from tensorflow.keras.layers import Dense,Bidirectional,LSTM,Input"
   ]
  },
  {
   "cell_type": "code",
   "execution_count": 3,
   "metadata": {},
   "outputs": [],
   "source": [
    "T=8\n",
    "D=2\n",
    "M=3"
   ]
  },
  {
   "cell_type": "code",
   "execution_count": 4,
   "metadata": {},
   "outputs": [],
   "source": [
    "X=np.random.randn(1,T,D)"
   ]
  },
  {
   "cell_type": "markdown",
   "metadata": {},
   "source": [
    "## return_sequences=True"
   ]
  },
  {
   "cell_type": "code",
   "execution_count": 9,
   "metadata": {},
   "outputs": [],
   "source": [
    "input_=Input(shape=(T,D))\n",
    "rnn = Bidirectional(LSTM(M,return_state=True,return_sequences=True))\n",
    "x=rnn(input_)\n",
    "\n",
    "model=Model(input_,x)\n",
    "o,h1,c1,h2,c2 = model.predict(X)"
   ]
  },
  {
   "cell_type": "code",
   "execution_count": 12,
   "metadata": {},
   "outputs": [
    {
     "name": "stdout",
     "output_type": "stream",
     "text": [
      "o: [[[ 0.06768235  0.06083761  0.08620139 -0.04819021 -0.05333244\n",
      "   -0.07443325]\n",
      "  [ 0.08645061  0.02856801  0.00742217 -0.23832723  0.18099368\n",
      "    0.16010149]\n",
      "  [ 0.05294225  0.01432441 -0.03160793 -0.18499178  0.14122875\n",
      "    0.14832994]\n",
      "  [ 0.02344614 -0.02548778 -0.06806743 -0.20717512  0.14662784\n",
      "    0.15598397]\n",
      "  [ 0.0072439  -0.08011875 -0.12178268 -0.18362091  0.10791086\n",
      "    0.09498503]\n",
      "  [ 0.0167401  -0.04882828 -0.11406979  0.04987476 -0.05499772\n",
      "   -0.04004553]\n",
      "  [-0.00492193 -0.02424675  0.03740595  0.04739095 -0.0616445\n",
      "   -0.06243897]\n",
      "  [-0.0070823  -0.03990755 -0.04962692 -0.09160414  0.07526714\n",
      "    0.07915863]]]\n",
      "o.shape: (1, 8, 6)\n",
      "h1: [[-0.0070823  -0.03990755 -0.04962692]]\n",
      "c1: [[-0.01407512 -0.08254969 -0.1179173 ]]\n",
      "h2: [[-0.04819021 -0.05333244 -0.07443325]]\n",
      "c2: [[-0.14686239 -0.10571471 -0.12190643]]\n"
     ]
    }
   ],
   "source": [
    "print(\"o:\", o)\n",
    "print(\"o.shape:\", o.shape)\n",
    "print(\"h1:\", h1)\n",
    "print(\"c1:\", c1)\n",
    "print(\"h2:\", h2)\n",
    "print(\"c2:\", c2)"
   ]
  },
  {
   "cell_type": "markdown",
   "metadata": {},
   "source": [
    "The **hidden state** should correspond to the **last output** since the output simply contains the hidden states at each time step.\n",
    "\n",
    "$h_2$ is the final hidden state for the backwards LSTM. So if we're going from back to front, the final hidden state for the backwards LSTM should be at the front of the sequence. So if we look at the last three elements of the **first output** we see that this matches $h_2$."
   ]
  },
  {
   "cell_type": "markdown",
   "metadata": {},
   "source": [
    "## return_sequences=False"
   ]
  },
  {
   "cell_type": "code",
   "execution_count": 13,
   "metadata": {},
   "outputs": [],
   "source": [
    "input_=Input(shape=(T,D))\n",
    "rnn = Bidirectional(LSTM(M,return_state=True,return_sequences=False))\n",
    "x=rnn(input_)\n",
    "\n",
    "model=Model(input_,x)\n",
    "o,h1,c1,h2,c2 = model.predict(X)"
   ]
  },
  {
   "cell_type": "code",
   "execution_count": 14,
   "metadata": {},
   "outputs": [
    {
     "name": "stdout",
     "output_type": "stream",
     "text": [
      "o: [[ 0.06681587  0.05622526  0.04715899 -0.13110313 -0.04053729  0.12135158]]\n",
      "o.shape: (1, 6)\n",
      "h1: [[0.06681587 0.05622526 0.04715899]]\n",
      "c1: [[0.12279694 0.14017344 0.09119238]]\n",
      "h2: [[-0.13110313 -0.04053729  0.12135158]]\n",
      "c2: [[-0.21565707 -0.12700903  0.28103825]]\n"
     ]
    }
   ],
   "source": [
    "print(\"o:\", o)\n",
    "print(\"o.shape:\", o.shape)\n",
    "print(\"h1:\", h1)\n",
    "print(\"c1:\", c1)\n",
    "print(\"h2:\", h2)\n",
    "print(\"c2:\", c2)"
   ]
  },
  {
   "cell_type": "markdown",
   "metadata": {},
   "source": [
    "The **output** is just the concatenation of $h_1$ and $h_2$."
   ]
  },
  {
   "cell_type": "markdown",
   "metadata": {},
   "source": [
    "# Toxic comment classification with Bidirectional RNN"
   ]
  },
  {
   "cell_type": "code",
   "execution_count": 15,
   "metadata": {},
   "outputs": [],
   "source": [
    "import os\n",
    "import sys\n",
    "import numpy as np\n",
    "import pandas as pd\n",
    "import matplotlib.pyplot as plt\n",
    "import tensorflow as tf\n",
    "from tensorflow.keras.preprocessing.text import Tokenizer\n",
    "from tensorflow.keras.preprocessing.sequence import pad_sequences\n",
    "from tensorflow.keras.layers import LSTM,Bidirectional,Dense, Input, GlobalMaxPooling1D, Conv1D, MaxPooling1D, Embedding\n",
    "from tensorflow.keras.models import Model\n",
    "from tensorflow.keras.optimizers import Adam\n",
    "from sklearn.metrics import roc_auc_score"
   ]
  },
  {
   "cell_type": "code",
   "execution_count": 16,
   "metadata": {},
   "outputs": [],
   "source": [
    "MAX_SEQUENCE_LENGTH = 100\n",
    "MAX_VOCAB_SIZE = 20000\n",
    "EMBEDDING_DIM = 100\n",
    "VALIDATION_SPLIT = 0.2\n",
    "BATCH_SIZE = 128\n",
    "EPOCHS = 10"
   ]
  },
  {
   "cell_type": "code",
   "execution_count": 17,
   "metadata": {},
   "outputs": [],
   "source": [
    "# load in pre-trained word vectors\n",
    "word2vec = {}\n",
    "with open(\"./large_files/glove.6B/glove.6B.{}d.txt\".format(EMBEDDING_DIM)) as f:\n",
    "    for line in f:\n",
    "        values = line.split()\n",
    "        word = values[0]\n",
    "        vec = np.array(values[1:], dtype='float32')\n",
    "        word2vec[word] = vec"
   ]
  },
  {
   "cell_type": "code",
   "execution_count": 18,
   "metadata": {},
   "outputs": [],
   "source": [
    "# prepare text samples and their labels\n",
    "train = pd.read_csv(\"./large_files/toxic/train.csv\")\n",
    "test = pd.read_csv(\"./large_files/toxic/test.csv\")"
   ]
  },
  {
   "cell_type": "code",
   "execution_count": 19,
   "metadata": {},
   "outputs": [
    {
     "data": {
      "text/html": [
       "<div>\n",
       "<style scoped>\n",
       "    .dataframe tbody tr th:only-of-type {\n",
       "        vertical-align: middle;\n",
       "    }\n",
       "\n",
       "    .dataframe tbody tr th {\n",
       "        vertical-align: top;\n",
       "    }\n",
       "\n",
       "    .dataframe thead th {\n",
       "        text-align: right;\n",
       "    }\n",
       "</style>\n",
       "<table border=\"1\" class=\"dataframe\">\n",
       "  <thead>\n",
       "    <tr style=\"text-align: right;\">\n",
       "      <th></th>\n",
       "      <th>id</th>\n",
       "      <th>comment_text</th>\n",
       "      <th>toxic</th>\n",
       "      <th>severe_toxic</th>\n",
       "      <th>obscene</th>\n",
       "      <th>threat</th>\n",
       "      <th>insult</th>\n",
       "      <th>identity_hate</th>\n",
       "    </tr>\n",
       "  </thead>\n",
       "  <tbody>\n",
       "    <tr>\n",
       "      <th>0</th>\n",
       "      <td>0000997932d777bf</td>\n",
       "      <td>Explanation\\nWhy the edits made under my usern...</td>\n",
       "      <td>0</td>\n",
       "      <td>0</td>\n",
       "      <td>0</td>\n",
       "      <td>0</td>\n",
       "      <td>0</td>\n",
       "      <td>0</td>\n",
       "    </tr>\n",
       "    <tr>\n",
       "      <th>1</th>\n",
       "      <td>000103f0d9cfb60f</td>\n",
       "      <td>D'aww! He matches this background colour I'm s...</td>\n",
       "      <td>0</td>\n",
       "      <td>0</td>\n",
       "      <td>0</td>\n",
       "      <td>0</td>\n",
       "      <td>0</td>\n",
       "      <td>0</td>\n",
       "    </tr>\n",
       "    <tr>\n",
       "      <th>2</th>\n",
       "      <td>000113f07ec002fd</td>\n",
       "      <td>Hey man, I'm really not trying to edit war. It...</td>\n",
       "      <td>0</td>\n",
       "      <td>0</td>\n",
       "      <td>0</td>\n",
       "      <td>0</td>\n",
       "      <td>0</td>\n",
       "      <td>0</td>\n",
       "    </tr>\n",
       "    <tr>\n",
       "      <th>3</th>\n",
       "      <td>0001b41b1c6bb37e</td>\n",
       "      <td>\"\\nMore\\nI can't make any real suggestions on ...</td>\n",
       "      <td>0</td>\n",
       "      <td>0</td>\n",
       "      <td>0</td>\n",
       "      <td>0</td>\n",
       "      <td>0</td>\n",
       "      <td>0</td>\n",
       "    </tr>\n",
       "    <tr>\n",
       "      <th>4</th>\n",
       "      <td>0001d958c54c6e35</td>\n",
       "      <td>You, sir, are my hero. Any chance you remember...</td>\n",
       "      <td>0</td>\n",
       "      <td>0</td>\n",
       "      <td>0</td>\n",
       "      <td>0</td>\n",
       "      <td>0</td>\n",
       "      <td>0</td>\n",
       "    </tr>\n",
       "  </tbody>\n",
       "</table>\n",
       "</div>"
      ],
      "text/plain": [
       "                 id                                       comment_text  toxic  \\\n",
       "0  0000997932d777bf  Explanation\\nWhy the edits made under my usern...      0   \n",
       "1  000103f0d9cfb60f  D'aww! He matches this background colour I'm s...      0   \n",
       "2  000113f07ec002fd  Hey man, I'm really not trying to edit war. It...      0   \n",
       "3  0001b41b1c6bb37e  \"\\nMore\\nI can't make any real suggestions on ...      0   \n",
       "4  0001d958c54c6e35  You, sir, are my hero. Any chance you remember...      0   \n",
       "\n",
       "   severe_toxic  obscene  threat  insult  identity_hate  \n",
       "0             0        0       0       0              0  \n",
       "1             0        0       0       0              0  \n",
       "2             0        0       0       0              0  \n",
       "3             0        0       0       0              0  \n",
       "4             0        0       0       0              0  "
      ]
     },
     "execution_count": 19,
     "metadata": {},
     "output_type": "execute_result"
    }
   ],
   "source": [
    "train.head()"
   ]
  },
  {
   "cell_type": "code",
   "execution_count": 20,
   "metadata": {},
   "outputs": [],
   "source": [
    "sentences = train['comment_text'].fillna(\"dummy_value\").values\n",
    "sentences_test = test['comment_text'].fillna(\"dummy_value\").values\n",
    "possible_labels = [\"toxic\", \"severe_toxic\",\n",
    "                   \"obscene\", \"threat\", \"insult\", \"identity_hate\"]\n",
    "targets = train[possible_labels].values"
   ]
  },
  {
   "cell_type": "code",
   "execution_count": 21,
   "metadata": {},
   "outputs": [],
   "source": [
    "# convert the sentences (strings) into integers\n",
    "tokenizer = Tokenizer(num_words=MAX_VOCAB_SIZE)\n",
    "tokenizer.fit_on_texts(sentences)\n",
    "sequences = tokenizer.texts_to_sequences(sentences)"
   ]
  },
  {
   "cell_type": "code",
   "execution_count": 22,
   "metadata": {},
   "outputs": [
    {
     "name": "stdout",
     "output_type": "stream",
     "text": [
      "max sequence length: 1400\n",
      "min sequence length: 0\n",
      "median sequence length: 35\n",
      "max word index: 19999\n"
     ]
    }
   ],
   "source": [
    "print(\"max sequence length:\", max(len(s) for s in sequences))\n",
    "print(\"min sequence length:\", min(len(s) for s in sequences))\n",
    "s = sorted(len(s) for s in sequences)\n",
    "print(\"median sequence length:\", s[len(s) // 2])\n",
    "print(\"max word index:\", max(max(seq) for seq in sequences if len(seq) > 0))"
   ]
  },
  {
   "cell_type": "code",
   "execution_count": 23,
   "metadata": {},
   "outputs": [
    {
     "name": "stdout",
     "output_type": "stream",
     "text": [
      "Found 210337 unique tokens.\n"
     ]
    }
   ],
   "source": [
    "# get word -> integer mapping\n",
    "word2idx = tokenizer.word_index\n",
    "print('Found %s unique tokens.' % len(word2idx))"
   ]
  },
  {
   "cell_type": "code",
   "execution_count": 24,
   "metadata": {},
   "outputs": [
    {
     "name": "stdout",
     "output_type": "stream",
     "text": [
      "Shape of data tensor: (159571, 100)\n",
      "Shape of target tensor: (159571, 6)\n"
     ]
    }
   ],
   "source": [
    "# pad sequences so that we get a N x T matrix\n",
    "data = pad_sequences(sequences, maxlen=MAX_SEQUENCE_LENGTH)\n",
    "print('Shape of data tensor:', data.shape)\n",
    "print('Shape of target tensor:', targets.shape)"
   ]
  },
  {
   "cell_type": "code",
   "execution_count": 25,
   "metadata": {},
   "outputs": [],
   "source": [
    "# prepare embedding matrix\n",
    "num_words = min(MAX_VOCAB_SIZE, len(word2idx)+1)\n",
    "embedding_matrix = np.zeros((num_words, EMBEDDING_DIM))\n",
    "\n",
    "for word, idx in word2idx.items():\n",
    "    if idx < MAX_VOCAB_SIZE:\n",
    "        embedding_vec = word2vec.get(word)\n",
    "        if embedding_vec is not None:\n",
    "            embedding_matrix[idx] = embedding_vec"
   ]
  },
  {
   "cell_type": "code",
   "execution_count": 26,
   "metadata": {},
   "outputs": [],
   "source": [
    "embedding_layer = Embedding(num_words,\n",
    "                            EMBEDDING_DIM,\n",
    "                            weights=[embedding_matrix],\n",
    "                            input_length=MAX_SEQUENCE_LENGTH,\n",
    "                            trainable=False\n",
    "                            )"
   ]
  },
  {
   "cell_type": "code",
   "execution_count": 27,
   "metadata": {},
   "outputs": [],
   "source": [
    "input_=Input(shape=(MAX_SEQUENCE_LENGTH,))\n",
    "x=embedding_layer(input_)\n",
    "x=Bidirectional(LSTM(15,return_sequences=True))(x)\n",
    "x=GlobalMaxPooling1D()(x)\n",
    "output=Dense(len(possible_labels),activation='sigmoid')(x)"
   ]
  },
  {
   "cell_type": "code",
   "execution_count": 28,
   "metadata": {},
   "outputs": [],
   "source": [
    "model=Model(input_,output)\n",
    "model.compile(loss='binary_crossentropy',\n",
    "             optimizer=Adam(lr=0.01),\n",
    "             metrics=['accuracy'])"
   ]
  },
  {
   "cell_type": "code",
   "execution_count": 29,
   "metadata": {},
   "outputs": [
    {
     "name": "stdout",
     "output_type": "stream",
     "text": [
      "Model: \"functional_7\"\n",
      "_________________________________________________________________\n",
      "Layer (type)                 Output Shape              Param #   \n",
      "=================================================================\n",
      "input_6 (InputLayer)         [(None, 100)]             0         \n",
      "_________________________________________________________________\n",
      "embedding (Embedding)        (None, 100, 100)          2000000   \n",
      "_________________________________________________________________\n",
      "bidirectional_2 (Bidirection (None, 100, 30)           13920     \n",
      "_________________________________________________________________\n",
      "global_max_pooling1d (Global (None, 30)                0         \n",
      "_________________________________________________________________\n",
      "dense (Dense)                (None, 6)                 186       \n",
      "=================================================================\n",
      "Total params: 2,014,106\n",
      "Trainable params: 14,106\n",
      "Non-trainable params: 2,000,000\n",
      "_________________________________________________________________\n"
     ]
    }
   ],
   "source": [
    "model.summary()"
   ]
  },
  {
   "cell_type": "code",
   "execution_count": 30,
   "metadata": {},
   "outputs": [
    {
     "name": "stdout",
     "output_type": "stream",
     "text": [
      "Epoch 1/10\n",
      "998/998 [==============================] - 20s 20ms/step - loss: 0.0659 - accuracy: 0.9897 - val_loss: 0.0559 - val_accuracy: 0.9898\n",
      "Epoch 2/10\n",
      "998/998 [==============================] - 19s 19ms/step - loss: 0.0523 - accuracy: 0.9788 - val_loss: 0.0540 - val_accuracy: 0.9543\n",
      "Epoch 3/10\n",
      "998/998 [==============================] - 19s 19ms/step - loss: 0.0491 - accuracy: 0.9629 - val_loss: 0.0514 - val_accuracy: 0.9821\n",
      "Epoch 4/10\n",
      "998/998 [==============================] - 19s 19ms/step - loss: 0.0476 - accuracy: 0.9634 - val_loss: 0.0516 - val_accuracy: 0.9324\n",
      "Epoch 5/10\n",
      "998/998 [==============================] - 19s 19ms/step - loss: 0.0464 - accuracy: 0.9656 - val_loss: 0.0510 - val_accuracy: 0.9623\n",
      "Epoch 6/10\n",
      "998/998 [==============================] - 19s 19ms/step - loss: 0.0460 - accuracy: 0.9619 - val_loss: 0.0513 - val_accuracy: 0.9548\n",
      "Epoch 7/10\n",
      "998/998 [==============================] - 19s 19ms/step - loss: 0.0450 - accuracy: 0.9639 - val_loss: 0.0513 - val_accuracy: 0.9018\n",
      "Epoch 8/10\n",
      "998/998 [==============================] - 19s 19ms/step - loss: 0.0444 - accuracy: 0.9625 - val_loss: 0.0516 - val_accuracy: 0.9643\n",
      "Epoch 9/10\n",
      "998/998 [==============================] - 19s 19ms/step - loss: 0.0436 - accuracy: 0.9613 - val_loss: 0.0517 - val_accuracy: 0.9880\n",
      "Epoch 10/10\n",
      "998/998 [==============================] - 19s 19ms/step - loss: 0.0429 - accuracy: 0.9661 - val_loss: 0.0508 - val_accuracy: 0.9754\n"
     ]
    }
   ],
   "source": [
    "r=model.fit(data,targets,batch_size=BATCH_SIZE,epochs=EPOCHS,validation_split=VALIDATION_SPLIT)"
   ]
  },
  {
   "cell_type": "code",
   "execution_count": 31,
   "metadata": {},
   "outputs": [
    {
     "data": {
      "image/png": "[encoded data removed]",
      "text/plain": [
       "<Figure size 432x288 with 1 Axes>"
      ]
     },
     "metadata": {},
     "output_type": "display_data"
    },
    {
     "data": {
      "image/png": "[encoded data removed]",
      "text/plain": [
       "<Figure size 432x288 with 1 Axes>"
      ]
     },
     "metadata": {},
     "output_type": "display_data"
    },
    {
     "name": "stdout",
     "output_type": "stream",
     "text": [
      "0.9852979934531333\n"
     ]
    }
   ],
   "source": [
    "# plot some data\n",
    "plt.plot(r.history['loss'], label='loss')\n",
    "plt.plot(r.history['val_loss'], label='val_loss')\n",
    "plt.legend()\n",
    "plt.show()\n",
    "\n",
    "# accuracies\n",
    "plt.plot(r.history['accuracy'], label='acc')\n",
    "plt.plot(r.history['val_accuracy'], label='val_acc')\n",
    "plt.legend()\n",
    "plt.show()\n",
    "\n",
    "p = model.predict(data)\n",
    "aucs = []\n",
    "for j in range(6):\n",
    "    auc = roc_auc_score(targets[:,j], p[:,j])\n",
    "    aucs.append(auc)\n",
    "print(np.mean(aucs))"
   ]
  },
  {
   "cell_type": "markdown",
   "metadata": {},
   "source": [
    "# Image classification"
   ]
  },
  {
   "cell_type": "code",
   "execution_count": 59,
   "metadata": {},
   "outputs": [],
   "source": [
    "import os\n",
    "import sys\n",
    "import numpy as np\n",
    "import pandas as pd\n",
    "import matplotlib.pyplot as plt\n",
    "import tensorflow as tf\n",
    "from tensorflow.keras.preprocessing.text import Tokenizer\n",
    "from tensorflow.keras.preprocessing.sequence import pad_sequences\n",
    "from tensorflow.keras.layers import LSTM,Lambda,Concatenate,Bidirectional,Dense, Input, GlobalMaxPooling1D, Conv1D, MaxPooling1D, Embedding\n",
    "from tensorflow.keras.models import Model\n",
    "from tensorflow.keras.optimizers import Adam\n",
    "from sklearn.metrics import roc_auc_score\n",
    "import tensorflow.keras.backend as K"
   ]
  },
  {
   "cell_type": "code",
   "execution_count": 160,
   "metadata": {},
   "outputs": [
    {
     "name": "stdout",
     "output_type": "stream",
     "text": [
      "Downloading data from https://storage.googleapis.com/tensorflow/tf-keras-datasets/mnist.npz\n",
      "11493376/11490434 [==============================] - 0s 0us/step\n"
     ]
    }
   ],
   "source": [
    "(x_train, y_train), (x_test, y_test) = tf.keras.datasets.mnist.load_data()"
   ]
  },
  {
   "cell_type": "code",
   "execution_count": 161,
   "metadata": {},
   "outputs": [
    {
     "data": {
      "text/plain": [
       "((60000, 28, 28), (60000,))"
      ]
     },
     "execution_count": 161,
     "metadata": {},
     "output_type": "execute_result"
    }
   ],
   "source": [
    "x_train.shape, y_train.shape"
   ]
  },
  {
   "cell_type": "code",
   "execution_count": 162,
   "metadata": {},
   "outputs": [],
   "source": [
    "D=28\n",
    "M=15"
   ]
  },
  {
   "cell_type": "code",
   "execution_count": 163,
   "metadata": {},
   "outputs": [],
   "source": [
    "# input is an image of size 28x28\n",
    "input_=Input(shape=(D,D))\n",
    "\n",
    "# up-down\n",
    "rnn1=Bidirectional(LSTM(M,return_sequences = True))\n",
    "\n",
    "x1= rnn1(input_)  # shape N x D x 2M\n",
    "\n",
    "x1=GlobalMaxPooling1D()(x1) # shape N x 2M\n",
    "\n",
    "# left-right\n",
    "rnn2=Bidirectional(LSTM(M,return_sequences = True))\n",
    "\n",
    "# custom layer\n",
    "permutor = Lambda(lambda t:K.permute_dimensions(t,pattern=(0,2,1)))"
   ]
  },
  {
   "cell_type": "code",
   "execution_count": 164,
   "metadata": {},
   "outputs": [],
   "source": [
    "x2=permutor(input_) # shape N x D x D\n",
    "x2=rnn2(x2)  # shape N x D x 2M\n",
    "x2=GlobalMaxPooling1D()(x2)  # shape N x 2M\n",
    "\n",
    "# put them together\n",
    "concatenator = Concatenate(axis = 1)\n",
    "x=concatenator([x1,x2]) # output is N x 4M\n",
    "\n",
    "# final dense layer\n",
    "output = Dense(10,activation='softmax')(x) "
   ]
  },
  {
   "cell_type": "code",
   "execution_count": 165,
   "metadata": {},
   "outputs": [],
   "source": [
    "model=Model(input_,output)\n",
    "model.compile(loss='sparse_categorical_crossentropy',\n",
    "              optimizer = 'adam',\n",
    "              metrics=['accuracy'])"
   ]
  },
  {
   "cell_type": "code",
   "execution_count": 166,
   "metadata": {},
   "outputs": [
    {
     "name": "stdout",
     "output_type": "stream",
     "text": [
      "Model: \"functional_53\"\n",
      "__________________________________________________________________________________________________\n",
      "Layer (type)                    Output Shape         Param #     Connected to                     \n",
      "==================================================================================================\n",
      "input_16 (InputLayer)           [(None, 28, 28)]     0                                            \n",
      "__________________________________________________________________________________________________\n",
      "lambda_10 (Lambda)              (None, 28, 28)       0           input_16[0][0]                   \n",
      "__________________________________________________________________________________________________\n",
      "bidirectional_23 (Bidirectional (None, 28, 30)       5280        input_16[0][0]                   \n",
      "__________________________________________________________________________________________________\n",
      "bidirectional_24 (Bidirectional (None, 28, 30)       5280        lambda_10[0][0]                  \n",
      "__________________________________________________________________________________________________\n",
      "global_max_pooling1d_16 (Global (None, 30)           0           bidirectional_23[0][0]           \n",
      "__________________________________________________________________________________________________\n",
      "global_max_pooling1d_17 (Global (None, 30)           0           bidirectional_24[0][0]           \n",
      "__________________________________________________________________________________________________\n",
      "concatenate_6 (Concatenate)     (None, 60)           0           global_max_pooling1d_16[0][0]    \n",
      "                                                                 global_max_pooling1d_17[0][0]    \n",
      "__________________________________________________________________________________________________\n",
      "dense_7 (Dense)                 (None, 10)           610         concatenate_6[0][0]              \n",
      "==================================================================================================\n",
      "Total params: 11,170\n",
      "Trainable params: 11,170\n",
      "Non-trainable params: 0\n",
      "__________________________________________________________________________________________________\n"
     ]
    }
   ],
   "source": [
    "model.summary()"
   ]
  },
  {
   "cell_type": "code",
   "execution_count": 168,
   "metadata": {},
   "outputs": [
    {
     "name": "stdout",
     "output_type": "stream",
     "text": [
      "Epoch 1/10\n",
      "1313/1313 [==============================] - 7s 5ms/step - loss: 1.0499 - accuracy: 0.7076 - val_loss: 0.5131 - val_accuracy: 0.8687\n",
      "Epoch 2/10\n",
      "1313/1313 [==============================] - 6s 5ms/step - loss: 0.4043 - accuracy: 0.8904 - val_loss: 0.3269 - val_accuracy: 0.9071\n",
      "Epoch 3/10\n",
      "1313/1313 [==============================] - 6s 5ms/step - loss: 0.2876 - accuracy: 0.9165 - val_loss: 0.2666 - val_accuracy: 0.9208\n",
      "Epoch 4/10\n",
      "1313/1313 [==============================] - 6s 5ms/step - loss: 0.2384 - accuracy: 0.9300 - val_loss: 0.2223 - val_accuracy: 0.9346\n",
      "Epoch 5/10\n",
      "1313/1313 [==============================] - 6s 5ms/step - loss: 0.2048 - accuracy: 0.9392 - val_loss: 0.2023 - val_accuracy: 0.9378\n",
      "Epoch 6/10\n",
      "1313/1313 [==============================] - 6s 5ms/step - loss: 0.1870 - accuracy: 0.9426 - val_loss: 0.1877 - val_accuracy: 0.9434\n",
      "Epoch 7/10\n",
      "1313/1313 [==============================] - 6s 5ms/step - loss: 0.1776 - accuracy: 0.9456 - val_loss: 0.1844 - val_accuracy: 0.9432\n",
      "Epoch 8/10\n",
      "1313/1313 [==============================] - 6s 5ms/step - loss: 0.1661 - accuracy: 0.9482 - val_loss: 0.1778 - val_accuracy: 0.9457\n",
      "Epoch 9/10\n",
      "1313/1313 [==============================] - 6s 5ms/step - loss: 0.1552 - accuracy: 0.9522 - val_loss: 0.1728 - val_accuracy: 0.9467\n",
      "Epoch 10/10\n",
      "1313/1313 [==============================] - 6s 5ms/step - loss: 0.1497 - accuracy: 0.9541 - val_loss: 0.1616 - val_accuracy: 0.9493\n"
     ]
    }
   ],
   "source": [
    "r=model.fit(x_train,y_train,batch_size=32,epochs=10,validation_split=0.3)"
   ]
  },
  {
   "cell_type": "code",
   "execution_count": 169,
   "metadata": {},
   "outputs": [
    {
     "data": {
      "image/png": "[encoded data removed]",
      "text/plain": [
       "<Figure size 432x288 with 1 Axes>"
      ]
     },
     "metadata": {},
     "output_type": "display_data"
    },
    {
     "data": {
      "image/png": "[encoded data removed]",
      "text/plain": [
       "<Figure size 432x288 with 1 Axes>"
      ]
     },
     "metadata": {},
     "output_type": "display_data"
    }
   ],
   "source": [
    "# plot some data\n",
    "plt.plot(r.history['loss'], label='loss')\n",
    "plt.plot(r.history['val_loss'], label='val_loss')\n",
    "plt.legend()\n",
    "plt.show()\n",
    "\n",
    "# accuracies\n",
    "plt.plot(r.history['accuracy'], label='acc')\n",
    "plt.plot(r.history['val_accuracy'], label='val_acc')\n",
    "plt.legend()\n",
    "plt.show()\n"
   ]
  }
 ],
 "metadata": {
  "kernelspec": {
   "display_name": "Python 3",
   "language": "python",
   "name": "python3"
  },
  "language_info": {
   "codemirror_mode": {
    "name": "ipython",
    "version": 3
   },
   "file_extension": ".py",
   "mimetype": "text/x-python",
   "name": "python",
   "nbconvert_exporter": "python",
   "pygments_lexer": "ipython3",
   "version": "3.6.9"
  },
  "toc": {
   "base_numbering": 1,
   "nav_menu": {},
   "number_sections": true,
   "sideBar": true,
   "skip_h1_title": false,
   "title_cell": "Table of Contents",
   "title_sidebar": "Contents",
   "toc_cell": false,
   "toc_position": {},
   "toc_section_display": true,
   "toc_window_display": false
  }
 },
 "nbformat": 4,
 "nbformat_minor": 2
}
