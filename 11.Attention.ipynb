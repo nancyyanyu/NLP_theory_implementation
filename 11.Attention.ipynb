{
 "cells": [
  {
   "cell_type": "code",
   "execution_count": 1,
   "metadata": {},
   "outputs": [],
   "source": [
    "import os\n",
    "import sys\n",
    "import numpy as np\n",
    "import matplotlib.pyplot as plt\n",
    "import tensorflow.keras.backend as K\n",
    "from tensorflow.keras.models import Model\n",
    "from tensorflow.keras.layers import Input, LSTM, GRU, Dense, Embedding, Bidirectional, RepeatVector, Concatenate, Dot, Lambda\n",
    "from tensorflow.keras.preprocessing.text import Tokenizer\n",
    "from tensorflow.keras.preprocessing.sequence import pad_sequences"
   ]
  },
  {
   "cell_type": "code",
   "execution_count": 30,
   "metadata": {},
   "outputs": [
    {
     "name": "stdout",
     "output_type": "stream",
     "text": [
      "num samples: 20000\n"
     ]
    }
   ],
   "source": [
    "# some config\n",
    "BATCH_SIZE = 64  # Batch size for training.\n",
    "EPOCHS = 30  # Number of epochs to train for.\n",
    "LATENT_DIM = 400  # Latent dimensionality of the encoding space.\n",
    "NUM_SAMPLES = 20000  # Number of samples to train on.\n",
    "MAX_NUM_WORDS = 20000\n",
    "EMBEDDING_DIM = 100\n",
    "# idea: make it different to ensure things all fit together properly!\n",
    "LATENT_DIM_DECODER = 400\n",
    "\n",
    "input_texts = []  # sentence in original language\n",
    "target_texts = []  # sentence in target language\n",
    "target_texts_inputs = []  # sentence in target language offset by 1\n",
    "\n",
    "# load in the data\n",
    "t = 0\n",
    "for line in open(\"./large_files/spa.txt\"):\n",
    "    t += 1\n",
    "    if t > NUM_SAMPLES:\n",
    "        break\n",
    "    if '\\t' not in line:\n",
    "        continue\n",
    "    input_text, translation, *rest = line.rstrip().split('\\t')\n",
    "    target_text = translation+' <eos>'\n",
    "    target_text_input = '<sos> '+translation\n",
    "    input_texts.append(input_text)\n",
    "    target_texts.append(target_text)\n",
    "    target_texts_inputs.append(target_text_input)\n",
    "print(\"num samples:\", len(input_texts))"
   ]
  },
  {
   "cell_type": "markdown",
   "metadata": {},
   "source": [
    "## Tokenization"
   ]
  },
  {
   "cell_type": "code",
   "execution_count": 31,
   "metadata": {},
   "outputs": [
    {
     "name": "stdout",
     "output_type": "stream",
     "text": [
      "Found 3768 unique input tokens.\n",
      "Found 10503 unique input tokens.\n"
     ]
    },
    {
     "data": {
      "text/plain": [
       "13"
      ]
     },
     "execution_count": 31,
     "metadata": {},
     "output_type": "execute_result"
    }
   ],
   "source": [
    "# Tokenize the inputs\n",
    "\n",
    "# tokenize the inputs\n",
    "tokenizer_input = Tokenizer(num_words=MAX_NUM_WORDS)\n",
    "tokenizer_input.fit_on_texts(input_texts)\n",
    "input_sequences = tokenizer_input.texts_to_sequences(input_texts)\n",
    "\n",
    "# explanation:\n",
    "# input_texts - english sentences\n",
    "# input_sequences - vectors of integers\n",
    "len(input_sequences), len(input_texts)\n",
    "\n",
    "# get the word to index mapping for input language\n",
    "word2idx_input = tokenizer_input.word_index\n",
    "print('Found %s unique input tokens.' % len(word2idx_input))\n",
    "\n",
    "# determine maximum length input sequence\n",
    "max_input_length = max(len(s) for s in input_sequences)\n",
    "max_input_length\n",
    "\n",
    "# Tokenize the outputs\n",
    "\n",
    "# tokenize the outputs\n",
    "# don't filter out special characters\n",
    "# otherwise <sos> and <eos> won't appear\n",
    "tokenizer_target = Tokenizer(num_words=MAX_NUM_WORDS, filters='')\n",
    "tokenizer_target.fit_on_texts(target_texts+target_texts_inputs)\n",
    "target_sequences = tokenizer_target.texts_to_sequences(target_texts)\n",
    "target_sequences_inputs = tokenizer_target.texts_to_sequences(\n",
    "    target_texts_inputs)\n",
    "\n",
    "# get the word to index mapping for output language\n",
    "word2idx_target = tokenizer_target.word_index\n",
    "print('Found %s unique input tokens.' % len(word2idx_target))\n",
    "\n",
    "# store number of output words for later\n",
    "# remember to add 1 since indexing starts at 1\n",
    "num_words_target = len(word2idx_target)+1\n",
    "\n",
    "# determine maximum length output sequence\n",
    "max_target_length = max(len(s) for s in target_sequences)\n",
    "max_target_length"
   ]
  },
  {
   "cell_type": "markdown",
   "metadata": {},
   "source": [
    "## Pad the sequences"
   ]
  },
  {
   "cell_type": "code",
   "execution_count": 32,
   "metadata": {},
   "outputs": [
    {
     "name": "stdout",
     "output_type": "stream",
     "text": [
      "encoder_inputs.shape: (20000, 6)\n",
      "encoder_inputs[0]: [ 0  0  0  0  0 22]\n",
      "decoder_inputs[0]: [   2 2846    0    0    0    0    0    0    0    0    0    0    0]\n",
      "decoder_inputs.shape: (20000, 13)\n",
      "Found 400000 word vectors.\n"
     ]
    }
   ],
   "source": [
    "# pad the sequences\n",
    "encoder_inputs = pad_sequences(input_sequences, maxlen=max_input_length)\n",
    "print(\"encoder_inputs.shape:\", encoder_inputs.shape)\n",
    "print(\"encoder_inputs[0]:\", encoder_inputs[0])\n",
    "decoder_inputs = pad_sequences(\n",
    "    target_sequences_inputs, maxlen=max_target_length, padding='post')\n",
    "print(\"decoder_inputs[0]:\", decoder_inputs[0])\n",
    "print(\"decoder_inputs.shape:\", decoder_inputs.shape)\n",
    "decoder_targets = pad_sequences(\n",
    "    target_sequences, maxlen=max_target_length, padding='post')\n",
    "\n",
    "# Load pre-trained word vectors\n",
    "\n",
    "# load in pre-trained word vectors\n",
    "word2vec = {}\n",
    "with open('./large_files/glove.6B/glove.6B.{}d.txt'.format(EMBEDDING_DIM)) as f:\n",
    "    for line in f:\n",
    "        values = line.split()\n",
    "        word = values[0]\n",
    "        vec = np.array(values[1:], dtype='float32')\n",
    "        word2vec[word] = vec\n",
    "print('Found %s word vectors.' % len(word2vec))\n",
    "\n",
    "# prepare embedding matrix\n",
    "num_words = min(MAX_NUM_WORDS, len(word2idx_input)+1)\n",
    "embedding_matrix = np.zeros((num_words, EMBEDDING_DIM))\n",
    "for word, i in word2idx_input.items():\n",
    "    if i < MAX_NUM_WORDS:\n",
    "        embedding_vec = word2vec.get(word)\n",
    "        if embedding_vec is not None:\n",
    "            embedding_matrix[i] = embedding_vec"
   ]
  },
  {
   "cell_type": "code",
   "execution_count": 33,
   "metadata": {},
   "outputs": [],
   "source": [
    "# create embedding layer\n",
    "embedding_layer = Embedding(num_words,\n",
    "                            EMBEDDING_DIM,\n",
    "                            weights=[embedding_matrix],\n",
    "                            input_length=max_input_length)\n",
    "\n",
    "# create targets, since we cannot use sparse\n",
    "# categorical cross entropy when we have sequences\n",
    "\n",
    "# one-hot the targets (can't use sparse cross-entropy)\n",
    "decoder_targets_one_hot = np.zeros(\n",
    "    (len(target_sequences), max_target_length, num_words_target))\n",
    "for i, d in enumerate(decoder_targets):\n",
    "    for t, word in enumerate(d):\n",
    "        if word != 0:\n",
    "            decoder_targets_one_hot[i, t, word] = 1"
   ]
  },
  {
   "cell_type": "markdown",
   "metadata": {},
   "source": [
    "## Build the model"
   ]
  },
  {
   "cell_type": "markdown",
   "metadata": {},
   "source": [
    "### Encoder "
   ]
  },
  {
   "cell_type": "code",
   "execution_count": 34,
   "metadata": {},
   "outputs": [],
   "source": [
    "# Set up the encoder\n",
    "encoder_input_placeholder=Input(shape = (max_input_length,))\n",
    "x=embedding_layer(encoder_input_placeholder)\n",
    "encoder = Bidirectional(LSTM(LATENT_DIM,return_sequences=True))\n",
    "encoder_outputs= encoder(x)"
   ]
  },
  {
   "cell_type": "markdown",
   "metadata": {},
   "source": [
    "### Attention \n",
    "\n",
    "remember we need to calculate the **context vector** several times, which means we should put it into a function but we want that function to use the same weights each time, which means we should make these layers global so that we can keep reusing the same layers within the function."
   ]
  },
  {
   "cell_type": "code",
   "execution_count": 35,
   "metadata": {},
   "outputs": [],
   "source": [
    "# make sure we do softmax over the time axis\n",
    "# expected shape is N x T x D\n",
    "# note: the latest version of Keras allows you to pass in axis arg\n",
    "def softmax_over_time(x):\n",
    "    assert(K.ndim(x) > 2)\n",
    "    e = K.exp(x - K.max(x, axis=1, keepdims=True))\n",
    "    s = K.sum(e, axis=1, keepdims=True)\n",
    "    return e / s"
   ]
  },
  {
   "cell_type": "code",
   "execution_count": 36,
   "metadata": {},
   "outputs": [],
   "source": [
    "# Attention layers need to be global because\n",
    "# they will be repeated Ty times at the decoder\n",
    "attn_repeat_layer = RepeatVector(max_input_length)\n",
    "attn_concat_layer = Concatenate(axis=-1)\n",
    "attn_dense1 = Dense(10, activation='tanh')\n",
    "attn_dense2 = Dense(1, activation=softmax_over_time)\n",
    "attn_dot = Dot(axes=1)  # to perform the weighted sum of alpha[t] * h[t]"
   ]
  },
  {
   "cell_type": "code",
   "execution_count": 37,
   "metadata": {},
   "outputs": [],
   "source": [
    "def one_step_attention(h, st_1):\n",
    "    # h = h(1), ..., h(Tx), shape = (Tx, LATENT_DIM * 2)\n",
    "    # st_1 = s(t-1), shape = (LATENT_DIM_DECODER,)\n",
    "\n",
    "    # copy s(t-1) Tx times\n",
    "    # now shape = (Tx, LATENT_DIM_DECODER)\n",
    "    st_1 = attn_repeat_layer(st_1)\n",
    "\n",
    "    # Concatenate all h(t)'s with s(t-1)\n",
    "    # Now of shape (Tx, LATENT_DIM_DECODER + LATENT_DIM * 2)\n",
    "    x = attn_concat_layer([h, st_1])\n",
    "\n",
    "    x = attn_dense1(x)\n",
    "    alpha = attn_dense2(x)\n",
    "\n",
    "    context = attn_dot([alpha, h])\n",
    "    return context"
   ]
  },
  {
   "cell_type": "markdown",
   "metadata": {},
   "source": [
    "### Decoder "
   ]
  },
  {
   "cell_type": "code",
   "execution_count": 38,
   "metadata": {},
   "outputs": [],
   "source": [
    "# Set up the decoder \n",
    "# create targets input which are the teacher forcing inputs.\n",
    "decoder_input_placeholder = Input(shape = (max_target_length,))\n",
    "\n",
    "# pass it into its own embedding layer\n",
    "decoder_embdding=Embedding(num_words_target,EMBEDDING_DIM)\n",
    "decoder_inputs_x = decoder_embdding(decoder_input_placeholder)\n",
    "\n",
    "# define the rest of the decoder (after attention)\n",
    "decoder_lstm = LSTM(LATENT_DIM_DECODER, return_state=True)\n",
    "decoder_dense = Dense(num_words_target, activation='softmax')\n",
    "\n",
    "# more inputs  - initial hidden state and cell state for LSTM\n",
    "initial_s = Input(shape=(LATENT_DIM_DECODER,), name='s0')\n",
    "initial_c = Input(shape=(LATENT_DIM_DECODER,), name='c0')\n",
    "# another concat layer for Teacher Forcing\n",
    "# this is to combine the previous correct word with context\n",
    "context_last_word_concat_layer = Concatenate(axis=2)"
   ]
  },
  {
   "cell_type": "code",
   "execution_count": 39,
   "metadata": {},
   "outputs": [],
   "source": [
    "# Unlike previous seq2seq, we cannot get the output\n",
    "# all in one step\n",
    "# Instead we need to do Ty steps\n",
    "# And in each of those steps, we need to consider\n",
    "# all Tx h's\n",
    "\n",
    "# s, c will be re-assigned in each iteration of the loop\n",
    "s, c = initial_s, initial_c"
   ]
  },
  {
   "cell_type": "code",
   "execution_count": 40,
   "metadata": {},
   "outputs": [],
   "source": [
    "outputs = []\n",
    "# loop through each output timestamp\n",
    "for t in range(max_target_length):\n",
    "\n",
    "    #  get the context using attention\n",
    "    context = one_step_attention(encoder_outputs, s)\n",
    "\n",
    "    # we need a different layer for each time step\n",
    "    # select the correct slice from its tensor as we only want the previous correct word\n",
    "    # Of course that's just whatever it is at the index t.\n",
    "    selector = Lambda(lambda x: x[:, t:t+1])\n",
    "    xt = selector(decoder_inputs_x)\n",
    "\n",
    "    # combine\n",
    "    decoder_lstm_input = context_last_word_concat_layer([context, xt])\n",
    "\n",
    "    # pass the combined [context, last word] into the LSTM\n",
    "    # along with [s, c]\n",
    "    # get the new [s, c] and output\n",
    "    o, s, c = decoder_lstm(decoder_lstm_input, initial_state=[s, c])\n",
    "\n",
    "    # final dense layer to get next word prediction\n",
    "    decoder_output = decoder_dense(o)\n",
    "    outputs.append(decoder_output)"
   ]
  },
  {
   "cell_type": "code",
   "execution_count": 41,
   "metadata": {},
   "outputs": [],
   "source": [
    "# 'outputs' is now a list of length Ty\n",
    "# each element is of shape (batch size, output vocab size)\n",
    "# therefore if we simply stack all the outputs into 1 tensor\n",
    "# it would be of shape T x N x D\n",
    "# we would like it to be of shape N x T x D\n",
    "def stack_transpose(x):\n",
    "    x = K.stack(x)  # is now T x batch_size x output_vocab_size tensor\n",
    "    # is now batch_size x T x output_vocab_size\n",
    "    x = K.permute_dimensions(x, pattern=(1, 0, 2))\n",
    "    return x"
   ]
  },
  {
   "cell_type": "code",
   "execution_count": 42,
   "metadata": {},
   "outputs": [],
   "source": [
    "stacker = Lambda(stack_transpose)\n",
    "outputs = stacker(outputs)"
   ]
  },
  {
   "cell_type": "code",
   "execution_count": 43,
   "metadata": {},
   "outputs": [],
   "source": [
    "model = Model(\n",
    "    [encoder_input_placeholder, decoder_input_placeholder,initial_s, \n",
    "    initial_c,],\n",
    "    outputs)"
   ]
  },
  {
   "cell_type": "code",
   "execution_count": 44,
   "metadata": {},
   "outputs": [],
   "source": [
    "def custom_loss(y_true, y_pred):\n",
    "  # both are of shape N x T x K\n",
    "  mask = K.cast(y_true > 0, dtype='float32')\n",
    "  out = mask * y_true * K.log(y_pred)\n",
    "  return -K.sum(out) / K.sum(mask)\n",
    "\n",
    "\n",
    "def acc(y_true, y_pred):\n",
    "  # both are of shape N x T x K\n",
    "  targ = K.argmax(y_true, axis=-1)\n",
    "  pred = K.argmax(y_pred, axis=-1)\n",
    "  correct = K.cast(K.equal(targ, pred), dtype='float32')\n",
    "\n",
    "  # 0 is padding, don't include those\n",
    "  mask = K.cast(K.greater(targ, 0), dtype='float32')\n",
    "  n_correct = K.sum(mask * correct)\n",
    "  n_total = K.sum(mask)\n",
    "  return n_correct / n_total\n"
   ]
  },
  {
   "cell_type": "code",
   "execution_count": 45,
   "metadata": {},
   "outputs": [],
   "source": [
    "# compile the model\n",
    "model.compile(loss=custom_loss,optimizer='adam',metrics=[acc])"
   ]
  },
  {
   "cell_type": "markdown",
   "metadata": {},
   "source": [
    "## Train the model"
   ]
  },
  {
   "cell_type": "code",
   "execution_count": 46,
   "metadata": {},
   "outputs": [
    {
     "name": "stdout",
     "output_type": "stream",
     "text": [
      "Model: \"functional_3\"\n",
      "__________________________________________________________________________________________________\n",
      "Layer (type)                    Output Shape         Param #     Connected to                     \n",
      "==================================================================================================\n",
      "input_5 (InputLayer)            [(None, 6)]          0                                            \n",
      "__________________________________________________________________________________________________\n",
      "embedding_3 (Embedding)         (None, 6, 100)       376900      input_5[0][0]                    \n",
      "__________________________________________________________________________________________________\n",
      "s0 (InputLayer)                 [(None, 400)]        0                                            \n",
      "__________________________________________________________________________________________________\n",
      "bidirectional_1 (Bidirectional) (None, 6, 800)       1603200     embedding_3[0][0]                \n",
      "__________________________________________________________________________________________________\n",
      "repeat_vector_2 (RepeatVector)  (None, 6, 400)       0           s0[0][0]                         \n",
      "                                                                 lstm_4[0][1]                     \n",
      "                                                                 lstm_4[1][1]                     \n",
      "                                                                 lstm_4[2][1]                     \n",
      "                                                                 lstm_4[3][1]                     \n",
      "                                                                 lstm_4[4][1]                     \n",
      "                                                                 lstm_4[5][1]                     \n",
      "                                                                 lstm_4[6][1]                     \n",
      "                                                                 lstm_4[7][1]                     \n",
      "                                                                 lstm_4[8][1]                     \n",
      "                                                                 lstm_4[9][1]                     \n",
      "                                                                 lstm_4[10][1]                    \n",
      "                                                                 lstm_4[11][1]                    \n",
      "__________________________________________________________________________________________________\n",
      "concatenate_4 (Concatenate)     (None, 6, 1200)      0           bidirectional_1[0][0]            \n",
      "                                                                 repeat_vector_2[0][0]            \n",
      "                                                                 bidirectional_1[0][0]            \n",
      "                                                                 repeat_vector_2[1][0]            \n",
      "                                                                 bidirectional_1[0][0]            \n",
      "                                                                 repeat_vector_2[2][0]            \n",
      "                                                                 bidirectional_1[0][0]            \n",
      "                                                                 repeat_vector_2[3][0]            \n",
      "                                                                 bidirectional_1[0][0]            \n",
      "                                                                 repeat_vector_2[4][0]            \n",
      "                                                                 bidirectional_1[0][0]            \n",
      "                                                                 repeat_vector_2[5][0]            \n",
      "                                                                 bidirectional_1[0][0]            \n",
      "                                                                 repeat_vector_2[6][0]            \n",
      "                                                                 bidirectional_1[0][0]            \n",
      "                                                                 repeat_vector_2[7][0]            \n",
      "                                                                 bidirectional_1[0][0]            \n",
      "                                                                 repeat_vector_2[8][0]            \n",
      "                                                                 bidirectional_1[0][0]            \n",
      "                                                                 repeat_vector_2[9][0]            \n",
      "                                                                 bidirectional_1[0][0]            \n",
      "                                                                 repeat_vector_2[10][0]           \n",
      "                                                                 bidirectional_1[0][0]            \n",
      "                                                                 repeat_vector_2[11][0]           \n",
      "                                                                 bidirectional_1[0][0]            \n",
      "                                                                 repeat_vector_2[12][0]           \n",
      "__________________________________________________________________________________________________\n",
      "dense_6 (Dense)                 (None, 6, 10)        12010       concatenate_4[0][0]              \n",
      "                                                                 concatenate_4[1][0]              \n",
      "                                                                 concatenate_4[2][0]              \n",
      "                                                                 concatenate_4[3][0]              \n",
      "                                                                 concatenate_4[4][0]              \n",
      "                                                                 concatenate_4[5][0]              \n",
      "                                                                 concatenate_4[6][0]              \n",
      "                                                                 concatenate_4[7][0]              \n",
      "                                                                 concatenate_4[8][0]              \n",
      "                                                                 concatenate_4[9][0]              \n",
      "                                                                 concatenate_4[10][0]             \n",
      "                                                                 concatenate_4[11][0]             \n",
      "                                                                 concatenate_4[12][0]             \n",
      "__________________________________________________________________________________________________\n",
      "input_6 (InputLayer)            [(None, 13)]         0                                            \n",
      "__________________________________________________________________________________________________\n",
      "dense_7 (Dense)                 (None, 6, 1)         11          dense_6[0][0]                    \n",
      "                                                                 dense_6[1][0]                    \n",
      "                                                                 dense_6[2][0]                    \n",
      "                                                                 dense_6[3][0]                    \n",
      "                                                                 dense_6[4][0]                    \n",
      "                                                                 dense_6[5][0]                    \n",
      "                                                                 dense_6[6][0]                    \n",
      "                                                                 dense_6[7][0]                    \n",
      "                                                                 dense_6[8][0]                    \n",
      "                                                                 dense_6[9][0]                    \n",
      "                                                                 dense_6[10][0]                   \n",
      "                                                                 dense_6[11][0]                   \n",
      "                                                                 dense_6[12][0]                   \n",
      "__________________________________________________________________________________________________\n",
      "embedding_4 (Embedding)         (None, 13, 100)      1050400     input_6[0][0]                    \n",
      "__________________________________________________________________________________________________\n",
      "dot_2 (Dot)                     (None, 1, 800)       0           dense_7[0][0]                    \n",
      "                                                                 bidirectional_1[0][0]            \n",
      "                                                                 dense_7[1][0]                    \n",
      "                                                                 bidirectional_1[0][0]            \n",
      "                                                                 dense_7[2][0]                    \n",
      "                                                                 bidirectional_1[0][0]            \n",
      "                                                                 dense_7[3][0]                    \n",
      "                                                                 bidirectional_1[0][0]            \n",
      "                                                                 dense_7[4][0]                    \n",
      "                                                                 bidirectional_1[0][0]            \n",
      "                                                                 dense_7[5][0]                    \n",
      "                                                                 bidirectional_1[0][0]            \n",
      "                                                                 dense_7[6][0]                    \n",
      "                                                                 bidirectional_1[0][0]            \n",
      "                                                                 dense_7[7][0]                    \n",
      "                                                                 bidirectional_1[0][0]            \n",
      "                                                                 dense_7[8][0]                    \n",
      "                                                                 bidirectional_1[0][0]            \n",
      "                                                                 dense_7[9][0]                    \n",
      "                                                                 bidirectional_1[0][0]            \n",
      "                                                                 dense_7[10][0]                   \n",
      "                                                                 bidirectional_1[0][0]            \n",
      "                                                                 dense_7[11][0]                   \n",
      "                                                                 bidirectional_1[0][0]            \n",
      "                                                                 dense_7[12][0]                   \n",
      "                                                                 bidirectional_1[0][0]            \n",
      "__________________________________________________________________________________________________\n",
      "lambda_14 (Lambda)              (None, 1, 100)       0           embedding_4[0][0]                \n",
      "__________________________________________________________________________________________________\n",
      "concatenate_5 (Concatenate)     (None, 1, 900)       0           dot_2[0][0]                      \n",
      "                                                                 lambda_14[0][0]                  \n",
      "                                                                 dot_2[1][0]                      \n",
      "                                                                 lambda_15[0][0]                  \n",
      "                                                                 dot_2[2][0]                      \n",
      "                                                                 lambda_16[0][0]                  \n",
      "                                                                 dot_2[3][0]                      \n",
      "                                                                 lambda_17[0][0]                  \n",
      "                                                                 dot_2[4][0]                      \n",
      "                                                                 lambda_18[0][0]                  \n",
      "                                                                 dot_2[5][0]                      \n",
      "                                                                 lambda_19[0][0]                  \n",
      "                                                                 dot_2[6][0]                      \n",
      "                                                                 lambda_20[0][0]                  \n",
      "                                                                 dot_2[7][0]                      \n",
      "                                                                 lambda_21[0][0]                  \n",
      "                                                                 dot_2[8][0]                      \n",
      "                                                                 lambda_22[0][0]                  \n",
      "                                                                 dot_2[9][0]                      \n",
      "                                                                 lambda_23[0][0]                  \n",
      "                                                                 dot_2[10][0]                     \n",
      "                                                                 lambda_24[0][0]                  \n",
      "                                                                 dot_2[11][0]                     \n",
      "                                                                 lambda_25[0][0]                  \n",
      "                                                                 dot_2[12][0]                     \n",
      "                                                                 lambda_26[0][0]                  \n",
      "__________________________________________________________________________________________________\n",
      "c0 (InputLayer)                 [(None, 400)]        0                                            \n",
      "__________________________________________________________________________________________________\n",
      "lstm_4 (LSTM)                   [(None, 400), (None, 2081600     concatenate_5[0][0]              \n",
      "                                                                 s0[0][0]                         \n",
      "                                                                 c0[0][0]                         \n",
      "                                                                 concatenate_5[1][0]              \n",
      "                                                                 lstm_4[0][1]                     \n",
      "                                                                 lstm_4[0][2]                     \n",
      "                                                                 concatenate_5[2][0]              \n",
      "                                                                 lstm_4[1][1]                     \n",
      "                                                                 lstm_4[1][2]                     \n",
      "                                                                 concatenate_5[3][0]              \n",
      "                                                                 lstm_4[2][1]                     \n",
      "                                                                 lstm_4[2][2]                     \n",
      "                                                                 concatenate_5[4][0]              \n",
      "                                                                 lstm_4[3][1]                     \n",
      "                                                                 lstm_4[3][2]                     \n",
      "                                                                 concatenate_5[5][0]              \n",
      "                                                                 lstm_4[4][1]                     \n",
      "                                                                 lstm_4[4][2]                     \n",
      "                                                                 concatenate_5[6][0]              \n",
      "                                                                 lstm_4[5][1]                     \n",
      "                                                                 lstm_4[5][2]                     \n",
      "                                                                 concatenate_5[7][0]              \n",
      "                                                                 lstm_4[6][1]                     \n",
      "                                                                 lstm_4[6][2]                     \n",
      "                                                                 concatenate_5[8][0]              \n",
      "                                                                 lstm_4[7][1]                     \n",
      "                                                                 lstm_4[7][2]                     \n",
      "                                                                 concatenate_5[9][0]              \n",
      "                                                                 lstm_4[8][1]                     \n",
      "                                                                 lstm_4[8][2]                     \n",
      "                                                                 concatenate_5[10][0]             \n",
      "                                                                 lstm_4[9][1]                     \n",
      "                                                                 lstm_4[9][2]                     \n",
      "                                                                 concatenate_5[11][0]             \n",
      "                                                                 lstm_4[10][1]                    \n",
      "                                                                 lstm_4[10][2]                    \n",
      "                                                                 concatenate_5[12][0]             \n",
      "                                                                 lstm_4[11][1]                    \n",
      "                                                                 lstm_4[11][2]                    \n",
      "__________________________________________________________________________________________________\n",
      "lambda_15 (Lambda)              (None, 1, 100)       0           embedding_4[0][0]                \n",
      "__________________________________________________________________________________________________\n",
      "lambda_16 (Lambda)              (None, 1, 100)       0           embedding_4[0][0]                \n",
      "__________________________________________________________________________________________________\n",
      "lambda_17 (Lambda)              (None, 1, 100)       0           embedding_4[0][0]                \n",
      "__________________________________________________________________________________________________\n",
      "lambda_18 (Lambda)              (None, 1, 100)       0           embedding_4[0][0]                \n",
      "__________________________________________________________________________________________________\n",
      "lambda_19 (Lambda)              (None, 1, 100)       0           embedding_4[0][0]                \n",
      "__________________________________________________________________________________________________\n",
      "lambda_20 (Lambda)              (None, 1, 100)       0           embedding_4[0][0]                \n",
      "__________________________________________________________________________________________________\n",
      "lambda_21 (Lambda)              (None, 1, 100)       0           embedding_4[0][0]                \n",
      "__________________________________________________________________________________________________\n",
      "lambda_22 (Lambda)              (None, 1, 100)       0           embedding_4[0][0]                \n",
      "__________________________________________________________________________________________________\n",
      "lambda_23 (Lambda)              (None, 1, 100)       0           embedding_4[0][0]                \n",
      "__________________________________________________________________________________________________\n",
      "lambda_24 (Lambda)              (None, 1, 100)       0           embedding_4[0][0]                \n",
      "__________________________________________________________________________________________________\n",
      "lambda_25 (Lambda)              (None, 1, 100)       0           embedding_4[0][0]                \n",
      "__________________________________________________________________________________________________\n",
      "lambda_26 (Lambda)              (None, 1, 100)       0           embedding_4[0][0]                \n",
      "__________________________________________________________________________________________________\n",
      "dense_8 (Dense)                 (None, 10504)        4212104     lstm_4[0][0]                     \n",
      "                                                                 lstm_4[1][0]                     \n",
      "                                                                 lstm_4[2][0]                     \n",
      "                                                                 lstm_4[3][0]                     \n",
      "                                                                 lstm_4[4][0]                     \n",
      "                                                                 lstm_4[5][0]                     \n",
      "                                                                 lstm_4[6][0]                     \n",
      "                                                                 lstm_4[7][0]                     \n",
      "                                                                 lstm_4[8][0]                     \n",
      "                                                                 lstm_4[9][0]                     \n",
      "                                                                 lstm_4[10][0]                    \n",
      "                                                                 lstm_4[11][0]                    \n",
      "                                                                 lstm_4[12][0]                    \n",
      "__________________________________________________________________________________________________\n",
      "lambda_27 (Lambda)              (None, 13, 10504)    0           dense_8[0][0]                    \n",
      "                                                                 dense_8[1][0]                    \n",
      "                                                                 dense_8[2][0]                    \n",
      "                                                                 dense_8[3][0]                    \n",
      "                                                                 dense_8[4][0]                    \n",
      "                                                                 dense_8[5][0]                    \n",
      "                                                                 dense_8[6][0]                    \n",
      "                                                                 dense_8[7][0]                    \n",
      "                                                                 dense_8[8][0]                    \n",
      "                                                                 dense_8[9][0]                    \n",
      "                                                                 dense_8[10][0]                   \n",
      "                                                                 dense_8[11][0]                   \n",
      "                                                                 dense_8[12][0]                   \n",
      "==================================================================================================\n",
      "Total params: 9,336,225\n",
      "Trainable params: 9,336,225\n",
      "Non-trainable params: 0\n",
      "__________________________________________________________________________________________________\n"
     ]
    }
   ],
   "source": [
    "model.summary()"
   ]
  },
  {
   "cell_type": "code",
   "execution_count": 47,
   "metadata": {},
   "outputs": [
    {
     "name": "stdout",
     "output_type": "stream",
     "text": [
      "Epoch 1/30\n",
      "250/250 [==============================] - 71s 284ms/step - loss: 6.1728 - acc: 0.2506 - val_loss: 6.1232 - val_acc: 0.2312\n",
      "Epoch 2/30\n",
      "250/250 [==============================] - 67s 267ms/step - loss: 5.4214 - acc: 0.2795 - val_loss: 5.8582 - val_acc: 0.2573\n",
      "Epoch 3/30\n",
      "250/250 [==============================] - 67s 267ms/step - loss: 4.9711 - acc: 0.3103 - val_loss: 5.4816 - val_acc: 0.2833\n",
      "Epoch 4/30\n",
      "250/250 [==============================] - 67s 267ms/step - loss: 4.3883 - acc: 0.3613 - val_loss: 5.0999 - val_acc: 0.3363\n",
      "Epoch 5/30\n",
      "250/250 [==============================] - 67s 268ms/step - loss: 3.8325 - acc: 0.4081 - val_loss: 4.8786 - val_acc: 0.3590\n",
      "Epoch 6/30\n",
      "250/250 [==============================] - 67s 268ms/step - loss: 3.3405 - acc: 0.4433 - val_loss: 4.7345 - val_acc: 0.3798\n",
      "Epoch 7/30\n",
      "250/250 [==============================] - 67s 268ms/step - loss: 2.9147 - acc: 0.4704 - val_loss: 4.6457 - val_acc: 0.3948\n",
      "Epoch 8/30\n",
      "250/250 [==============================] - 67s 268ms/step - loss: 2.5336 - acc: 0.4982 - val_loss: 4.5952 - val_acc: 0.4046\n",
      "Epoch 9/30\n",
      "250/250 [==============================] - 67s 269ms/step - loss: 2.1983 - acc: 0.5279 - val_loss: 4.5849 - val_acc: 0.4160\n",
      "Epoch 10/30\n",
      "250/250 [==============================] - 67s 268ms/step - loss: 1.9139 - acc: 0.5587 - val_loss: 4.5653 - val_acc: 0.4212\n",
      "Epoch 11/30\n",
      "250/250 [==============================] - 67s 268ms/step - loss: 1.6669 - acc: 0.5938 - val_loss: 4.5851 - val_acc: 0.4239\n",
      "Epoch 12/30\n",
      "250/250 [==============================] - 67s 269ms/step - loss: 1.4650 - acc: 0.6289 - val_loss: 4.5878 - val_acc: 0.4270\n",
      "Epoch 13/30\n",
      "250/250 [==============================] - 67s 268ms/step - loss: 1.2934 - acc: 0.6602 - val_loss: 4.6078 - val_acc: 0.4303\n",
      "Epoch 14/30\n",
      "250/250 [==============================] - 67s 268ms/step - loss: 1.1539 - acc: 0.6865 - val_loss: 4.6049 - val_acc: 0.4336\n",
      "Epoch 15/30\n",
      "250/250 [==============================] - 67s 269ms/step - loss: 1.0343 - acc: 0.7113 - val_loss: 4.6773 - val_acc: 0.4326\n",
      "Epoch 16/30\n",
      "250/250 [==============================] - 67s 269ms/step - loss: 0.9351 - acc: 0.7323 - val_loss: 4.6882 - val_acc: 0.4371\n",
      "Epoch 17/30\n",
      "250/250 [==============================] - 67s 268ms/step - loss: 0.8511 - acc: 0.7499 - val_loss: 4.7113 - val_acc: 0.4365\n",
      "Epoch 18/30\n",
      "250/250 [==============================] - 67s 266ms/step - loss: 0.7859 - acc: 0.7630 - val_loss: 4.7599 - val_acc: 0.4382\n",
      "Epoch 19/30\n",
      "250/250 [==============================] - 67s 267ms/step - loss: 0.7247 - acc: 0.7752 - val_loss: 4.7720 - val_acc: 0.4405\n",
      "Epoch 20/30\n",
      "250/250 [==============================] - 67s 268ms/step - loss: 0.6760 - acc: 0.7844 - val_loss: 4.8407 - val_acc: 0.4384\n",
      "Epoch 21/30\n",
      "250/250 [==============================] - 67s 268ms/step - loss: 0.6319 - acc: 0.7930 - val_loss: 4.8453 - val_acc: 0.4426\n",
      "Epoch 22/30\n",
      "250/250 [==============================] - 67s 268ms/step - loss: 0.5944 - acc: 0.7992 - val_loss: 4.9230 - val_acc: 0.4439\n",
      "Epoch 23/30\n",
      "250/250 [==============================] - 67s 267ms/step - loss: 0.5655 - acc: 0.8051 - val_loss: 4.9518 - val_acc: 0.4413\n",
      "Epoch 24/30\n",
      "250/250 [==============================] - 67s 267ms/step - loss: 0.5418 - acc: 0.8085 - val_loss: 5.0004 - val_acc: 0.4364\n",
      "Epoch 25/30\n",
      "250/250 [==============================] - 67s 267ms/step - loss: 0.5135 - acc: 0.8163 - val_loss: 4.9786 - val_acc: 0.4392\n",
      "Epoch 26/30\n",
      "250/250 [==============================] - 67s 267ms/step - loss: 0.4955 - acc: 0.8176 - val_loss: 5.0598 - val_acc: 0.4416\n",
      "Epoch 27/30\n",
      "250/250 [==============================] - 67s 267ms/step - loss: 0.4803 - acc: 0.8199 - val_loss: 5.0724 - val_acc: 0.4424\n",
      "Epoch 28/30\n",
      "250/250 [==============================] - 67s 268ms/step - loss: 0.4665 - acc: 0.8217 - val_loss: 5.1006 - val_acc: 0.4437\n",
      "Epoch 29/30\n",
      "250/250 [==============================] - 67s 268ms/step - loss: 0.4553 - acc: 0.8239 - val_loss: 5.0926 - val_acc: 0.4418\n",
      "Epoch 30/30\n",
      "250/250 [==============================] - 67s 268ms/step - loss: 0.4437 - acc: 0.8259 - val_loss: 5.1646 - val_acc: 0.4439\n"
     ]
    }
   ],
   "source": [
    "# train the model\n",
    "z=np.zeros((len(encoder_inputs),LATENT_DIM_DECODER)) # initial [s, c]\n",
    "r=model.fit([encoder_inputs,decoder_inputs,z,z],decoder_targets_one_hot,batch_size=BATCH_SIZE,epochs=EPOCHS,validation_split=0.2)"
   ]
  },
  {
   "cell_type": "code",
   "execution_count": 48,
   "metadata": {},
   "outputs": [
    {
     "data": {
      "image/png": "[encoded data removed]",
      "text/plain": [
       "<Figure size 432x288 with 1 Axes>"
      ]
     },
     "metadata": {},
     "output_type": "display_data"
    },
    {
     "data": {
      "image/png": "[encoded data removed]",
      "text/plain": [
       "<Figure size 432x288 with 1 Axes>"
      ]
     },
     "metadata": {},
     "output_type": "display_data"
    }
   ],
   "source": [
    "# plot some data\n",
    "plt.plot(r.history['loss'], label='loss')\n",
    "plt.plot(r.history['val_loss'], label='val_loss')\n",
    "plt.legend()\n",
    "plt.show()\n",
    "\n",
    "# accuracies\n",
    "plt.plot(r.history['acc'], label='acc')\n",
    "plt.plot(r.history['val_acc'], label='val_acc')\n",
    "plt.legend()\n",
    "plt.show()"
   ]
  },
  {
   "cell_type": "markdown",
   "metadata": {},
   "source": [
    "## Make predictions "
   ]
  },
  {
   "cell_type": "code",
   "execution_count": 49,
   "metadata": {},
   "outputs": [],
   "source": [
    "# We need to create another model\n",
    "# that can take in the RNN state and previous word as input\n",
    "# and accept a T=1 sequence.\n",
    "\n",
    "# The encoder will be stand-alone\n",
    "# From this we will get our initial decoder hidden state\n",
    "# i.e. h(1), ..., h(Tx)"
   ]
  },
  {
   "cell_type": "code",
   "execution_count": 50,
   "metadata": {},
   "outputs": [],
   "source": [
    "encoder_model=Model(encoder_input_placeholder,encoder_outputs)\n",
    "\n",
    "# next we define a T=1 decoder model\n",
    "encoder_outputs_as_input = Input(shape=(max_input_length,LATENT_DIM*2))\n",
    "decoder_input_single=Input(shape=(1,))\n",
    "# get the embedding for the last word input \n",
    "decoder_input_single_x = decoder_embdding(decoder_input_single)\n",
    "\n",
    "# no need to loop over attention steps this time because there is only one step\n",
    "# (h, st_1)\n",
    "context = one_step_attention(encoder_outputs_as_input,initial_s)\n",
    "\n",
    "# combine context with last word\n",
    "decoder_lstm_input = context_last_word_concat_layer([context, decoder_input_single_x])\n",
    "\n",
    "# lstm and final dense\n",
    "o,s,c = decoder_lstm(decoder_lstm_input, initial_state=[initial_s,initial_c])\n",
    "# get output word probability\n",
    "decoder_ouputs =  decoder_dense(o)"
   ]
  },
  {
   "cell_type": "code",
   "execution_count": 51,
   "metadata": {},
   "outputs": [],
   "source": [
    "# note: we don't really need the final stack and tranpose\n",
    "# because there's only 1 output\n",
    "# it is already of size N x D\n",
    "# no need to make it 1 x N x D --> N x 1 x D\n",
    "\n",
    "\n",
    "# create the model object\n",
    "decoder_model=Model([decoder_input_single,\n",
    "                     encoder_outputs_as_input,\n",
    "                     initial_s,\n",
    "                     initial_c],\n",
    "                    [decoder_ouputs,s,c] )"
   ]
  },
  {
   "cell_type": "code",
   "execution_count": 52,
   "metadata": {},
   "outputs": [],
   "source": [
    "# map indexes back into real words\n",
    "# so we can view the results\n",
    "idx2word_eng={v:k for k,v in word2idx_input.items()}\n",
    "idx2word_trans={v:k for k,v in word2idx_target.items()}"
   ]
  },
  {
   "cell_type": "code",
   "execution_count": 54,
   "metadata": {},
   "outputs": [
    {
     "data": {
      "text/plain": [
       "(8764,\n",
       " array([[  0,   0,   7,   5,  68, 397]], dtype=int32),\n",
       " \"I'm a good cook.\")"
      ]
     },
     "execution_count": 54,
     "metadata": {},
     "output_type": "execute_result"
    }
   ],
   "source": [
    "i = np.random.choice(len(input_texts))\n",
    "input_seq = encoder_inputs[i:i+1]\n",
    "i,input_seq,input_texts[i]"
   ]
  },
  {
   "cell_type": "code",
   "execution_count": 57,
   "metadata": {},
   "outputs": [],
   "source": [
    "def decode_sequence(input_seq):\n",
    "    # Encode the input as state vectors.\n",
    "    enc_out = encoder_model.predict(input_seq)\n",
    "    # Generate empty target sequence of length 1.\n",
    "    target_seq = np.zeros((1,1))\n",
    "\n",
    "    # Populate the first character of target sequence with the start character. \n",
    "    # NOTE: tokenizer lower-cases all words\n",
    "    target_seq[0,0]=word2idx_target['<sos>']\n",
    "\n",
    "    # if we get this we break\n",
    "    eos = word2idx_target['<eos>']\n",
    "\n",
    "    # initialising s & c to be a bunch of zeros.\n",
    "    # This is different from regular Seq2Seq where we get the initial state from the encoder.\n",
    "    # [s, c] will be updated in each loop iteration\n",
    "    s=np.zeros((1,LATENT_DIM_DECODER))\n",
    "    c=np.zeros((1,LATENT_DIM_DECODER))\n",
    "\n",
    "    # Create the translation\n",
    "    output_translation=[]\n",
    "    for _ in range(max_target_length):\n",
    "        o,s,c = decoder_model.predict([target_seq,\n",
    "                                       enc_out,\n",
    "                                       s,\n",
    "                                       c])\n",
    "\n",
    "        # Get next word\n",
    "        idx = np.argmax(o.flatten())\n",
    "\n",
    "        # End sentence of EOS\n",
    "        if idx == eos:\n",
    "            break\n",
    "        word = ''\n",
    "        if idx>0:\n",
    "            word = idx2word_trans[idx]\n",
    "            output_translation.append(word)\n",
    "        # Update the decoder input\n",
    "        # which is just the word just generated\n",
    "        target_seq[0,0]=idx\n",
    "    return ' '.join(output_translation)"
   ]
  },
  {
   "cell_type": "code",
   "execution_count": 59,
   "metadata": {},
   "outputs": [
    {
     "name": "stdout",
     "output_type": "stream",
     "text": [
      "-\n",
      "Input sentence: Can I try it?\n",
      "Predicted translation: ¿puedo intentar?\n",
      "Actual translation: ¿Puedo intentar? <eos>\n"
     ]
    }
   ],
   "source": [
    "i = np.random.choice(len(input_texts))\n",
    "input_seq = encoder_inputs[i:i+1]\n",
    "translation = decode_sequence(input_seq)\n",
    "print('-')\n",
    "print('Input sentence:', input_texts[i])\n",
    "print('Predicted translation:', translation)\n",
    "print('Actual translation:', target_texts[i])"
   ]
  },
  {
   "cell_type": "code",
   "execution_count": null,
   "metadata": {},
   "outputs": [],
   "source": []
  }
 ],
 "metadata": {
  "kernelspec": {
   "display_name": "Python 3",
   "language": "python",
   "name": "python3"
  },
  "language_info": {
   "codemirror_mode": {
    "name": "ipython",
    "version": 3
   },
   "file_extension": ".py",
   "mimetype": "text/x-python",
   "name": "python",
   "nbconvert_exporter": "python",
   "pygments_lexer": "ipython3",
   "version": "3.6.9"
  },
  "toc": {
   "base_numbering": 1,
   "nav_menu": {},
   "number_sections": true,
   "sideBar": true,
   "skip_h1_title": false,
   "title_cell": "Table of Contents",
   "title_sidebar": "Contents",
   "toc_cell": false,
   "toc_position": {
    "height": "calc(100% - 180px)",
    "left": "10px",
    "top": "150px",
    "width": "165px"
   },
   "toc_section_display": true,
   "toc_window_display": true
  }
 },
 "nbformat": 4,
 "nbformat_minor": 2
}
