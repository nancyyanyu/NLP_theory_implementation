{
 "cells": [
  {
   "cell_type": "code",
   "execution_count": 12,
   "metadata": {},
   "outputs": [],
   "source": [
    "import numpy as np\n",
    "import os\n",
    "import theano\n",
    "import theano.tensor as T\n",
    "import matplotlib.pyplot as plt\n",
    "from sklearn.utils import shuffle\n",
    "from sklearn.metrics import f1_score\n",
    "from sklearn.tree import DecisionTreeClassifier"
   ]
  },
  {
   "cell_type": "code",
   "execution_count": 8,
   "metadata": {},
   "outputs": [],
   "source": [
    "class LogisticRegression:\n",
    "    def __init__(self):\n",
    "        pass\n",
    "\n",
    "    def fit(self, X, Y, V=None, K=None, D=50, lr=1e-1, mu=0.99, batch_sz=100, epochs=6):\n",
    "        if V is None:\n",
    "            V = len(set(X))\n",
    "        if K is None:\n",
    "            K = len(set(Y))\n",
    "        N = len(X)\n",
    "\n",
    "        W = np.random.randn(V, K) / np.sqrt(V + K)\n",
    "        b = np.zeros(K)\n",
    "        self.W = theano.shared(W)\n",
    "        self.b = theano.shared(b)\n",
    "        self.params = [self.W, self.b]\n",
    "\n",
    "        thX = T.ivector('X')\n",
    "        thY = T.ivector('Y')\n",
    "\n",
    "        py_x = T.nnet.softmax(self.W[thX] + self.b)\n",
    "        prediction = T.argmax(py_x, axis=1)\n",
    "\n",
    "        cost = -T.mean(T.log(py_x[T.arange(thY.shape[0]), thY]))\n",
    "        grads = T.grad(cost, self.params)\n",
    "        dparams = [theano.shared(p.get_value()*0) for p in self.params]\n",
    "        self.cost_predict_op = theano.function(\n",
    "            inputs=[thX, thY],\n",
    "            outputs=[cost, prediction],\n",
    "            allow_input_downcast=True,\n",
    "        )\n",
    "\n",
    "        updates = [\n",
    "            (p, p + mu*dp - lr*g) for p, dp, g in zip(self.params, dparams, grads)\n",
    "        ] + [\n",
    "            (dp, mu*dp - lr*g) for dp, g in zip(dparams, grads)\n",
    "        ]\n",
    "        train_op = theano.function(\n",
    "            inputs=[thX, thY],\n",
    "            outputs=[cost, prediction],\n",
    "            updates=updates,\n",
    "            allow_input_downcast=True\n",
    "        )\n",
    "\n",
    "        costs = []\n",
    "        n_batches = N // batch_sz\n",
    "        for i in range(epochs):\n",
    "            X, Y = shuffle(X, Y)\n",
    "            print(\"epoch:\", i)\n",
    "            for j in range(n_batches):\n",
    "                Xbatch = X[j*batch_sz:(j*batch_sz + batch_sz)]\n",
    "                Ybatch = Y[j*batch_sz:(j*batch_sz + batch_sz)]\n",
    "\n",
    "                c, p = train_op(Xbatch, Ybatch)\n",
    "                costs.append(c)\n",
    "                if j % 200 == 0:\n",
    "                    print(\n",
    "                        \"i:\", i, \"j:\", j,\n",
    "                        \"n_batches:\", n_batches,\n",
    "                        \"cost:\", c,\n",
    "                        \"error:\", np.mean(p != Ybatch)\n",
    "                    )\n",
    "        plt.plot(costs)\n",
    "        plt.show()\n",
    "\n",
    "    def score(self, X, Y):\n",
    "        _, p = self.cost_predict_op(X, Y)\n",
    "        return np.mean(p == Y)\n",
    "\n",
    "    def f1_score(self, X, Y):\n",
    "        _, p = self.cost_predict_op(X, Y)\n",
    "        return f1_score(Y, p, average=None).mean()\n",
    "         "
   ]
  },
  {
   "cell_type": "code",
   "execution_count": 9,
   "metadata": {},
   "outputs": [],
   "source": [
    "def get_data():\n",
    "    word2idx={}\n",
    "    tag2idx={}\n",
    "    word_idx=0\n",
    "    tag_idx=0\n",
    "    Xtrain=[]\n",
    "    Ytrain=[]\n",
    "    Xtest=[]\n",
    "    Ytest=[]\n",
    "    currentX=[]\n",
    "    currentY=[]\n",
    "\n",
    "    for line in open('chunking/train.txt'):\n",
    "        line = line.rstrip()\n",
    "        if line:\n",
    "            word,tag,_=line.split()\n",
    "            if word not in word2idx:\n",
    "                word2idx[word]=word_idx\n",
    "                word_idx+=1\n",
    "            currentX.append(word2idx[word])\n",
    "            if tag not in tag2idx:\n",
    "                tag2idx[tag]=tag_idx\n",
    "                tag_idx+=1\n",
    "            currentY.append(tag2idx[tag])\n",
    "    Xtrain=currentX\n",
    "    Ytrain=currentY\n",
    "\n",
    "    currentX=[]\n",
    "    currentY=[]\n",
    "    for line in open('chunking/test.txt'):\n",
    "        line = line.rstrip()\n",
    "        if line:\n",
    "            word,tag,_=line.split()\n",
    "            if word in word2idx:\n",
    "                currentX.append(word2idx[word])\n",
    "            else:\n",
    "                currentX.append(word_idx)\n",
    "            currentY.append(tag2idx[tag])\n",
    "    Xtest=currentX\n",
    "    Ytest=currentY\n",
    "    return np.array(Xtrain),np.array(Ytrain),np.array(Xtest),np.array(Ytest),word2idx"
   ]
  },
  {
   "cell_type": "code",
   "execution_count": 10,
   "metadata": {},
   "outputs": [
    {
     "name": "stdout",
     "output_type": "stream",
     "text": [
      "vocabulary size: 19123\n"
     ]
    }
   ],
   "source": [
    "Xtrain,Ytrain,Xtest,Ytest,word2idx = get_data()\n",
    "N=len(Xtrain)\n",
    "V=len(word2idx)+1\n",
    "print(\"vocabulary size:\", V)"
   ]
  },
  {
   "cell_type": "code",
   "execution_count": 21,
   "metadata": {},
   "outputs": [
    {
     "name": "stdout",
     "output_type": "stream",
     "text": [
      "epoch: 0\n",
      "i: 0 j: 0 n_batches: 2117 cost: 3.783502555867195 error: 0.99\n",
      "i: 0 j: 200 n_batches: 2117 cost: 1.5928960367374336 error: 0.5\n",
      "i: 0 j: 400 n_batches: 2117 cost: 1.3018383607257815 error: 0.4\n",
      "i: 0 j: 600 n_batches: 2117 cost: 1.0872556347301967 error: 0.26\n",
      "i: 0 j: 800 n_batches: 2117 cost: 0.9547591456247437 error: 0.24\n",
      "i: 0 j: 1000 n_batches: 2117 cost: 0.8028865512920147 error: 0.21\n",
      "i: 0 j: 1200 n_batches: 2117 cost: 0.8415253461931139 error: 0.27\n",
      "i: 0 j: 1400 n_batches: 2117 cost: 0.8823538489560212 error: 0.22\n",
      "i: 0 j: 1600 n_batches: 2117 cost: 0.7311465190236924 error: 0.21\n",
      "i: 0 j: 1800 n_batches: 2117 cost: 0.6853174453172732 error: 0.14\n",
      "i: 0 j: 2000 n_batches: 2117 cost: 0.6599716908656879 error: 0.16\n",
      "epoch: 1\n",
      "i: 1 j: 0 n_batches: 2117 cost: 0.6852098049875777 error: 0.16\n",
      "i: 1 j: 200 n_batches: 2117 cost: 0.847576401757883 error: 0.2\n",
      "i: 1 j: 400 n_batches: 2117 cost: 0.5045762014059914 error: 0.12\n",
      "i: 1 j: 600 n_batches: 2117 cost: 0.5011153846051317 error: 0.12\n",
      "i: 1 j: 800 n_batches: 2117 cost: 0.7606031596565062 error: 0.22\n",
      "i: 1 j: 1000 n_batches: 2117 cost: 0.56557440199207 error: 0.14\n",
      "i: 1 j: 1200 n_batches: 2117 cost: 0.4541000418406679 error: 0.04\n",
      "i: 1 j: 1400 n_batches: 2117 cost: 0.5477259982162326 error: 0.12\n",
      "i: 1 j: 1600 n_batches: 2117 cost: 0.43260844756074507 error: 0.09\n",
      "i: 1 j: 1800 n_batches: 2117 cost: 0.5469130243269006 error: 0.16\n",
      "i: 1 j: 2000 n_batches: 2117 cost: 0.6159598329786821 error: 0.18\n",
      "epoch: 2\n",
      "i: 2 j: 0 n_batches: 2117 cost: 0.42997909335619655 error: 0.06\n",
      "i: 2 j: 200 n_batches: 2117 cost: 0.40973946703323505 error: 0.11\n",
      "i: 2 j: 400 n_batches: 2117 cost: 0.4603350857776747 error: 0.08\n",
      "i: 2 j: 600 n_batches: 2117 cost: 0.5126184454435728 error: 0.11\n",
      "i: 2 j: 800 n_batches: 2117 cost: 0.313981200824341 error: 0.05\n",
      "i: 2 j: 1000 n_batches: 2117 cost: 0.5084292332340107 error: 0.16\n",
      "i: 2 j: 1200 n_batches: 2117 cost: 0.48610933556441416 error: 0.08\n",
      "i: 2 j: 1400 n_batches: 2117 cost: 0.39659246705804807 error: 0.1\n",
      "i: 2 j: 1600 n_batches: 2117 cost: 0.3324835617818795 error: 0.06\n",
      "i: 2 j: 1800 n_batches: 2117 cost: 0.47351249163112186 error: 0.07\n",
      "i: 2 j: 2000 n_batches: 2117 cost: 0.47258686125717503 error: 0.1\n",
      "epoch: 3\n",
      "i: 3 j: 0 n_batches: 2117 cost: 0.3260263791089756 error: 0.05\n",
      "i: 3 j: 200 n_batches: 2117 cost: 0.42714706301075006 error: 0.1\n",
      "i: 3 j: 400 n_batches: 2117 cost: 0.4409999599079072 error: 0.09\n",
      "i: 3 j: 600 n_batches: 2117 cost: 0.4584535932214113 error: 0.1\n",
      "i: 3 j: 800 n_batches: 2117 cost: 0.4339406212623115 error: 0.1\n",
      "i: 3 j: 1000 n_batches: 2117 cost: 0.3568130475199836 error: 0.07\n",
      "i: 3 j: 1200 n_batches: 2117 cost: 0.480562381659681 error: 0.13\n",
      "i: 3 j: 1400 n_batches: 2117 cost: 0.41042233144340456 error: 0.08\n",
      "i: 3 j: 1600 n_batches: 2117 cost: 0.4166359231054543 error: 0.1\n",
      "i: 3 j: 1800 n_batches: 2117 cost: 0.4443439681296491 error: 0.1\n",
      "i: 3 j: 2000 n_batches: 2117 cost: 0.44594052496961006 error: 0.11\n",
      "epoch: 4\n",
      "i: 4 j: 0 n_batches: 2117 cost: 0.4772811852432596 error: 0.15\n",
      "i: 4 j: 200 n_batches: 2117 cost: 0.3481404701789987 error: 0.08\n",
      "i: 4 j: 400 n_batches: 2117 cost: 0.44753966085544583 error: 0.1\n",
      "i: 4 j: 600 n_batches: 2117 cost: 0.42343777436033586 error: 0.1\n",
      "i: 4 j: 800 n_batches: 2117 cost: 0.31659255974253325 error: 0.08\n",
      "i: 4 j: 1000 n_batches: 2117 cost: 0.3628309964657872 error: 0.12\n",
      "i: 4 j: 1200 n_batches: 2117 cost: 0.4238725039936173 error: 0.14\n",
      "i: 4 j: 1400 n_batches: 2117 cost: 0.387716989175792 error: 0.09\n",
      "i: 4 j: 1600 n_batches: 2117 cost: 0.3477933845700034 error: 0.1\n",
      "i: 4 j: 1800 n_batches: 2117 cost: 0.5030228725598281 error: 0.13\n",
      "i: 4 j: 2000 n_batches: 2117 cost: 0.29568241952678886 error: 0.05\n",
      "epoch: 5\n",
      "i: 5 j: 0 n_batches: 2117 cost: 0.3379094087848153 error: 0.07\n",
      "i: 5 j: 200 n_batches: 2117 cost: 0.43801812217063996 error: 0.13\n",
      "i: 5 j: 400 n_batches: 2117 cost: 0.39806982104084015 error: 0.09\n",
      "i: 5 j: 600 n_batches: 2117 cost: 0.372981984532003 error: 0.07\n",
      "i: 5 j: 800 n_batches: 2117 cost: 0.3417293029607973 error: 0.06\n",
      "i: 5 j: 1000 n_batches: 2117 cost: 0.24131205686914473 error: 0.07\n",
      "i: 5 j: 1200 n_batches: 2117 cost: 0.34318641162896246 error: 0.08\n",
      "i: 5 j: 1400 n_batches: 2117 cost: 0.3506638369414623 error: 0.1\n",
      "i: 5 j: 1600 n_batches: 2117 cost: 0.43255416115408624 error: 0.13\n",
      "i: 5 j: 1800 n_batches: 2117 cost: 0.28389215483976504 error: 0.02\n",
      "i: 5 j: 2000 n_batches: 2117 cost: 0.40441443627223106 error: 0.11\n"
     ]
    },
    {
     "data": {
      "image/png": "[encoded data removed]",
      "text/plain": [
       "<Figure size 432x288 with 1 Axes>"
      ]
     },
     "metadata": {},
     "output_type": "display_data"
    }
   ],
   "source": [
    "model = LogisticRegression()\n",
    "model.fit(Xtrain,Ytrain,V=V)"
   ]
  },
  {
   "cell_type": "code",
   "execution_count": 22,
   "metadata": {},
   "outputs": [
    {
     "name": "stdout",
     "output_type": "stream",
     "text": [
      "training complete\n",
      "lr train score: 0.9313124920298309\n",
      "lr train f1: 0.8232415779590752\n"
     ]
    }
   ],
   "source": [
    "print(\"training complete\")\n",
    "print(\"lr train score:\", model.score(Xtrain, Ytrain))\n",
    "print(\"lr train f1:\", model.f1_score(Xtrain, Ytrain))"
   ]
  },
  {
   "cell_type": "code",
   "execution_count": 16,
   "metadata": {},
   "outputs": [
    {
     "name": "stdout",
     "output_type": "stream",
     "text": [
      "dt train score: 0.9649595941944107\n",
      "dt train f1: 0.9078586969360977\n"
     ]
    }
   ],
   "source": [
    "dt=DecisionTreeClassifier()\n",
    "dt.fit(Xtrain.reshape(N,1),Ytrain)\n",
    "print(\"dt train score:\", dt.score(Xtrain.reshape(N, 1), Ytrain))\n",
    "p = dt.predict(Xtrain.reshape(N, 1))\n",
    "print(\"dt train f1:\", f1_score(Ytrain, p, average=None).mean())"
   ]
  },
  {
   "cell_type": "code",
   "execution_count": 19,
   "metadata": {},
   "outputs": [
    {
     "name": "stdout",
     "output_type": "stream",
     "text": [
      "dt test score: 0.9168372839141355\n",
      "dt test f1: 0.8717182342896075\n"
     ]
    }
   ],
   "source": [
    "Ntest = len(Xtest)\n",
    "print(\"dt test score:\",dt.score(Xtest.reshape(Ntest,1),Ytest))\n",
    "p=dt.predict(Xtest.reshape(Ntest,1))\n",
    "print(\"dt test f1:\",f1_score(Ytest,p,average=None).mean())"
   ]
  },
  {
   "cell_type": "code",
   "execution_count": 23,
   "metadata": {},
   "outputs": [
    {
     "name": "stdout",
     "output_type": "stream",
     "text": [
      "lr test score: 0.8845853473204297\n",
      "lr test f1: 0.8206713980073673\n"
     ]
    }
   ],
   "source": [
    "print(\"lr test score:\", model.score(Xtest, Ytest))\n",
    "print(\"lr test f1:\", model.f1_score(Xtest, Ytest))"
   ]
  },
  {
   "cell_type": "code",
   "execution_count": null,
   "metadata": {},
   "outputs": [],
   "source": []
  }
 ],
 "metadata": {
  "kernelspec": {
   "display_name": "Python 3",
   "language": "python",
   "name": "python3"
  },
  "language_info": {
   "codemirror_mode": {
    "name": "ipython",
    "version": 3
   },
   "file_extension": ".py",
   "mimetype": "text/x-python",
   "name": "python",
   "nbconvert_exporter": "python",
   "pygments_lexer": "ipython3",
   "version": "3.6.9"
  },
  "toc": {
   "base_numbering": 1,
   "nav_menu": {},
   "number_sections": true,
   "sideBar": true,
   "skip_h1_title": false,
   "title_cell": "Table of Contents",
   "title_sidebar": "Contents",
   "toc_cell": false,
   "toc_position": {},
   "toc_section_display": true,
   "toc_window_display": false
  }
 },
 "nbformat": 4,
 "nbformat_minor": 2
}
